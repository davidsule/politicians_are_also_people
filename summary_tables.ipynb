{
 "cells": [
  {
   "attachments": {},
   "cell_type": "markdown",
   "metadata": {},
   "source": [
    "# Results Summaries + Plots"
   ]
  },
  {
   "cell_type": "code",
   "execution_count": 85,
   "metadata": {},
   "outputs": [],
   "source": [
    "import json, os\n",
    "import seaborn as sns  \n",
    "import numpy as np\n",
    "import pandas as pd\n",
    "import matplotlib as mpl\n",
    "import matplotlib.pyplot as plt\n",
    "from dotenv import load_dotenv\n",
    "\n",
    "load_dotenv();"
   ]
  },
  {
   "attachments": {},
   "cell_type": "markdown",
   "metadata": {},
   "source": [
    "## Load Results"
   ]
  },
  {
   "attachments": {},
   "cell_type": "markdown",
   "metadata": {},
   "source": [
    "### OOD Eval\n",
    "\n",
    "For each mapping type we are going to create a dataframe whose rows are the relation types, with the last three rows representing the micro, macro, and weighted F1 scores.\n",
    "The columns are the six domains, then the cross-domain average, then the cross domain average without the news domain.\n",
    "For cells with 0 corresponding support the value is None."
   ]
  },
  {
   "cell_type": "code",
   "execution_count": 86,
   "metadata": {},
   "outputs": [],
   "source": [
    "mapping_types = [\"no_mapping\", \"manual\", \"embedding\", \"ood_clustering\", \"topological\", \"thesaurus_affinity\"]\n",
    "domains = [\"ai\", \"literature\", \"music\", \"politics\", \"science\", \"news\"]\n",
    "results_folder_path = \"data/results\"\n",
    "\n",
    "# To construct file path\n",
    "domain_list = \"\".join([domain[0] for domain in sorted(domains)])\n",
    "\n",
    "relation_types = sorted(os.getenv(f\"RELATION_LABELS\").split())\n",
    "f1_types = [\"micro\", \"macro\", \"weighted\"]\n",
    "\n",
    "indices = relation_types + [f\"{f1_type}_F1\" for f1_type in f1_types]\n",
    "columns = domains + [\"average\", \"avg_wo_news\"]\n",
    "\n",
    "ood_results = {}\n",
    "\n",
    "for mapping_type in mapping_types:\n",
    "    result_path = os.path.join(results_folder_path, f\"{domain_list}_{mapping_type}\", \"ood_validation.json\")\n",
    "    with open(result_path) as f:\n",
    "        result_dict = json.load(f)\n",
    "\n",
    "    results = pd.DataFrame(0, index=indices, columns=columns)\n",
    "    # Fill in dataframe\n",
    "    # Go row-by-row\n",
    "    for relation_type in relation_types + f1_types:\n",
    "        if relation_type in f1_types:\n",
    "            json_name = f\"{relation_type} avg\"\n",
    "            result_name = f\"{relation_type}_F1\"\n",
    "        else:\n",
    "            json_name = relation_type\n",
    "            result_name = relation_type\n",
    "\n",
    "        # We only want to include specific label-domain score in the avg if its support != 0\n",
    "        # So let's put them in a list if support != 0, then the length of the list determines the denominator for the mean\n",
    "        avg_wo_news = []\n",
    "        for domain in domains + [\"average\"]:\n",
    "            if result_dict[domain][json_name][\"support\"] == 0:\n",
    "                results.loc[result_name, domain] = None\n",
    "            else:\n",
    "                f1 = result_dict[domain][json_name][\"f1-score\"]\n",
    "                results.loc[result_name, domain] = f1\n",
    "                if domain not in [\"news\", \"average\"]:\n",
    "                    avg_wo_news.append(f1)\n",
    "        avg_wo_news = sum(avg_wo_news) / len(avg_wo_news)\n",
    "        results.loc[result_name, \"avg_wo_news\"] = avg_wo_news\n",
    "    ood_results[mapping_type] = results"
   ]
  },
  {
   "cell_type": "code",
   "execution_count": 88,
   "metadata": {},
   "outputs": [
    {
     "data": {
      "text/html": [
       "<div>\n",
       "<style scoped>\n",
       "    .dataframe tbody tr th:only-of-type {\n",
       "        vertical-align: middle;\n",
       "    }\n",
       "\n",
       "    .dataframe tbody tr th {\n",
       "        vertical-align: top;\n",
       "    }\n",
       "\n",
       "    .dataframe thead th {\n",
       "        text-align: right;\n",
       "    }\n",
       "</style>\n",
       "<table border=\"1\" class=\"dataframe\">\n",
       "  <thead>\n",
       "    <tr style=\"text-align: right;\">\n",
       "      <th></th>\n",
       "      <th>no_mapping</th>\n",
       "      <th>manual</th>\n",
       "      <th>embedding</th>\n",
       "      <th>ood_clustering</th>\n",
       "      <th>topological</th>\n",
       "      <th>thesaurus_affinity</th>\n",
       "    </tr>\n",
       "  </thead>\n",
       "  <tbody>\n",
       "    <tr>\n",
       "      <th>micro_F1</th>\n",
       "      <td>0.466878</td>\n",
       "      <td>0.544317</td>\n",
       "      <td>0.510969</td>\n",
       "      <td>0.494620</td>\n",
       "      <td>0.539467</td>\n",
       "      <td>0.548099</td>\n",
       "    </tr>\n",
       "    <tr>\n",
       "      <th>macro_F1</th>\n",
       "      <td>0.288376</td>\n",
       "      <td>0.328379</td>\n",
       "      <td>0.303398</td>\n",
       "      <td>0.288007</td>\n",
       "      <td>0.326025</td>\n",
       "      <td>0.327904</td>\n",
       "    </tr>\n",
       "    <tr>\n",
       "      <th>weighted_F1</th>\n",
       "      <td>0.435395</td>\n",
       "      <td>0.511465</td>\n",
       "      <td>0.479359</td>\n",
       "      <td>0.462159</td>\n",
       "      <td>0.510325</td>\n",
       "      <td>0.521648</td>\n",
       "    </tr>\n",
       "  </tbody>\n",
       "</table>\n",
       "</div>"
      ],
      "text/plain": [
       "             no_mapping    manual  embedding  ood_clustering  topological  \\\n",
       "micro_F1       0.466878  0.544317   0.510969        0.494620     0.539467   \n",
       "macro_F1       0.288376  0.328379   0.303398        0.288007     0.326025   \n",
       "weighted_F1    0.435395  0.511465   0.479359        0.462159     0.510325   \n",
       "\n",
       "             thesaurus_affinity  \n",
       "micro_F1               0.548099  \n",
       "macro_F1               0.327904  \n",
       "weighted_F1            0.521648  "
      ]
     },
     "execution_count": 88,
     "metadata": {},
     "output_type": "execute_result"
    }
   ],
   "source": [
    "sum_measures = [\"micro_F1\", \"macro_F1\", \"weighted_F1\"]\n",
    "ood_summary = pd.DataFrame(0, index=sum_measures, columns=mapping_types)\n",
    "for mapping_type in mapping_types:\n",
    "    for measure in sum_measures:\n",
    "        ood_summary.loc[measure, mapping_type] = ood_results[mapping_type].loc[measure, \"avg_wo_news\"]\n",
    "ood_summary"
   ]
  },
  {
   "attachments": {},
   "cell_type": "markdown",
   "metadata": {},
   "source": [
    "### Cross-Domain Eval\n",
    "\n",
    "One df, rows are the same as above, columns are mapping types."
   ]
  },
  {
   "cell_type": "code",
   "execution_count": 87,
   "metadata": {},
   "outputs": [],
   "source": [
    "mapping_types_cd_eval = [mapping_type for mapping_type in mapping_types if mapping_type != \"ood_clustering\"]\n",
    "cd_results = pd.DataFrame(0, index=indices, columns=mapping_types_cd_eval)\n",
    "for mapping_type in mapping_types_cd_eval:\n",
    "    result_path = os.path.join(results_folder_path, f\"{domain_list}_{mapping_type}\", \"all.json\")\n",
    "    with open(result_path) as f:\n",
    "        result_dict = json.load(f)\n",
    "    # Fill in dataframe\n",
    "    # Go row-by-row\n",
    "    for relation_type in relation_types + f1_types:\n",
    "        if relation_type in f1_types:\n",
    "            json_name = f\"{relation_type} avg\"\n",
    "            result_name = f\"{relation_type}_F1\"\n",
    "        else:\n",
    "            json_name = relation_type\n",
    "            result_name = relation_type\n",
    "        if result_dict[\"average\"][json_name][\"support\"] == 0:\n",
    "            cd_results.loc[result_name, mapping_type] = None\n",
    "        else:\n",
    "            cd_results.loc[result_name, mapping_type] = result_dict[\"average\"][json_name][\"f1-score\"]"
   ]
  },
  {
   "cell_type": "code",
   "execution_count": 92,
   "metadata": {},
   "outputs": [
    {
     "data": {
      "text/html": [
       "<div>\n",
       "<style scoped>\n",
       "    .dataframe tbody tr th:only-of-type {\n",
       "        vertical-align: middle;\n",
       "    }\n",
       "\n",
       "    .dataframe tbody tr th {\n",
       "        vertical-align: top;\n",
       "    }\n",
       "\n",
       "    .dataframe thead th {\n",
       "        text-align: right;\n",
       "    }\n",
       "</style>\n",
       "<table border=\"1\" class=\"dataframe\">\n",
       "  <thead>\n",
       "    <tr style=\"text-align: right;\">\n",
       "      <th></th>\n",
       "      <th>no_mapping</th>\n",
       "      <th>manual</th>\n",
       "      <th>embedding</th>\n",
       "      <th>topological</th>\n",
       "      <th>thesaurus_affinity</th>\n",
       "    </tr>\n",
       "  </thead>\n",
       "  <tbody>\n",
       "    <tr>\n",
       "      <th>micro_F1</th>\n",
       "      <td>0.639771</td>\n",
       "      <td>0.643988</td>\n",
       "      <td>0.633692</td>\n",
       "      <td>0.631987</td>\n",
       "      <td>0.641095</td>\n",
       "    </tr>\n",
       "    <tr>\n",
       "      <th>macro_F1</th>\n",
       "      <td>0.452749</td>\n",
       "      <td>0.467648</td>\n",
       "      <td>0.448746</td>\n",
       "      <td>0.463378</td>\n",
       "      <td>0.461635</td>\n",
       "    </tr>\n",
       "    <tr>\n",
       "      <th>weighted_F1</th>\n",
       "      <td>0.618562</td>\n",
       "      <td>0.621940</td>\n",
       "      <td>0.611512</td>\n",
       "      <td>0.613782</td>\n",
       "      <td>0.619818</td>\n",
       "    </tr>\n",
       "  </tbody>\n",
       "</table>\n",
       "</div>"
      ],
      "text/plain": [
       "             no_mapping    manual  embedding  topological  thesaurus_affinity\n",
       "micro_F1       0.639771  0.643988   0.633692     0.631987            0.641095\n",
       "macro_F1       0.452749  0.467648   0.448746     0.463378            0.461635\n",
       "weighted_F1    0.618562  0.621940   0.611512     0.613782            0.619818"
      ]
     },
     "execution_count": 92,
     "metadata": {},
     "output_type": "execute_result"
    }
   ],
   "source": [
    "cd_summary = cd_results.iloc[-3:]\n",
    "cd_summary"
   ]
  }
 ],
 "metadata": {
  "kernelspec": {
   "display_name": "syp",
   "language": "python",
   "name": "python3"
  },
  "language_info": {
   "codemirror_mode": {
    "name": "ipython",
    "version": 3
   },
   "file_extension": ".py",
   "mimetype": "text/x-python",
   "name": "python",
   "nbconvert_exporter": "python",
   "pygments_lexer": "ipython3",
   "version": "3.9.16"
  },
  "orig_nbformat": 4
 },
 "nbformat": 4,
 "nbformat_minor": 2
}
