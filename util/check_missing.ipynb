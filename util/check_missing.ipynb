{
 "cells": [
  {
   "attachments": {},
   "cell_type": "markdown",
   "metadata": {},
   "source": [
    "### Check whether any runs are incomplete / missing / failed"
   ]
  },
  {
   "cell_type": "code",
   "execution_count": 1,
   "metadata": {},
   "outputs": [
    {
     "name": "stdout",
     "output_type": "stream",
     "text": [
      "If nothing is printed -> Everything is cool.\n"
     ]
    }
   ],
   "source": [
    "# Cross domain\n",
    "import json\n",
    "print(\"If nothing is printed -> Everything is cool.\")\n",
    "seeds = [4012, 5096, 8878, 8857, 9908]\n",
    "mappings = [\"no_mapping\", \"manual\", \"embedding\", \"topological\", \"thesaurus_affinity\", \"ood_clustering\"]\n",
    "eval_types = [\"all\", \"ood_validation\"]\n",
    "for seed in seeds:\n",
    "    for mapping in mappings:\n",
    "        for eval_type in eval_types:\n",
    "            if mapping == \"ood_clustering\" and eval_type == \"all\":\n",
    "                continue\n",
    "            path_eval_log = f\"../data/predictions/almnps_{seed}/{mapping}/{eval_type}/eval.log\"\n",
    "            path_args = f\"../data/predictions/almnps_{seed}/{mapping}/{eval_type}/args.json\"\n",
    "            try:\n",
    "                with open(path_eval_log) as f:\n",
    "                    lines = f.readlines()\n",
    "                    if lines[-1] != \"All results saved. Exiting.\\n\":\n",
    "                        print(f\"Unsuccessful prediction:\\t{seed}\\t{mapping}\\t{eval_type}\")\n",
    "            except:\n",
    "                print(f\"Missing eval log:\\t{seed}\\t{mapping}\\t{eval_type}\")\n",
    "            try:\n",
    "                with open(path_args) as f:\n",
    "                    args = json.load(f)\n",
    "                    if args[\"batch_size\"] != 32:\n",
    "                        print(f\"Batch size not 32:\\t{seed}\\t{mapping}\\t{eval_type}\")\n",
    "            except:\n",
    "                print(f\"Missing args file:\\t{seed}\\t{mapping}\\t{eval_type}\")"
   ]
  },
  {
   "cell_type": "code",
   "execution_count": 2,
   "metadata": {},
   "outputs": [
    {
     "name": "stdout",
     "output_type": "stream",
     "text": [
      "If nothing is printed -> Everything is cool.\n"
     ]
    }
   ],
   "source": [
    "# Single domain\n",
    "import json\n",
    "print(\"If nothing is printed -> Everything is cool.\")\n",
    "seeds = [4012, 5096, 8878, 8857, 9908]\n",
    "mappings = [\"no_mapping\", \"manual\", \"embedding\", \"topological\", \"thesaurus_affinity\"]\n",
    "for seed in seeds:\n",
    "    for domain in [\"a\", \"l\", \"m\", \"n\", \"p\", \"s\"]:\n",
    "        for mapping in mappings:\n",
    "            path_eval_log = f\"../data/predictions/single_domain/{domain}_{seed}/{mapping}/all/eval.log\"\n",
    "            path_args = f\"../data/predictions/single_domain/{domain}_{seed}/{mapping}/all/args.json\"\n",
    "            try:\n",
    "                with open(path_args) as f:\n",
    "                    args = json.load(f)\n",
    "                    if args[\"batch_size\"] != 32:\n",
    "                        print(f\"Batch size not 32:\\t{seed}\\t{mapping}\\t{eval_type}\")\n",
    "            except:\n",
    "                print(f\"Missing args file:\\t{seed}\\t{domain}\\t{mapping}\")\n",
    "                continue\n",
    "            try:\n",
    "                with open(path_eval_log) as f:\n",
    "                    lines = f.readlines()\n",
    "                    if lines[-1] != \"All results saved. Exiting.\\n\":\n",
    "                        print(f\"Unsuccessful prediction:\\t{seed}\\t{mapping}\\t{eval_type}\")\n",
    "            except:\n",
    "                print(f\"Missing eval log:\\t{seed}\\t{domain}\\t{mapping}\")\n",
    "                "
   ]
  }
 ],
 "metadata": {
  "kernelspec": {
   "display_name": "2yp",
   "language": "python",
   "name": "python3"
  },
  "language_info": {
   "codemirror_mode": {
    "name": "ipython",
    "version": 3
   },
   "file_extension": ".py",
   "mimetype": "text/x-python",
   "name": "python",
   "nbconvert_exporter": "python",
   "pygments_lexer": "ipython3",
   "version": "3.9.16"
  },
  "orig_nbformat": 4
 },
 "nbformat": 4,
 "nbformat_minor": 2
}
