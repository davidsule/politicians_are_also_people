{
 "cells": [
  {
   "attachments": {},
   "cell_type": "markdown",
   "metadata": {},
   "source": [
    "### Check whether any runs are incomplete / missing / failed"
   ]
  },
  {
   "cell_type": "code",
   "execution_count": 1,
   "metadata": {},
   "outputs": [
    {
     "name": "stdout",
     "output_type": "stream",
     "text": [
      "If nothing is printed -> all are successful.\n",
      "8857\ttopological\tood_validation\n",
      "8857\tthesaurus_affinity\tood_validation\n",
      "9908\ttopological\tood_validation\n",
      "9908\tthesaurus_affinity\tood_validation\n"
     ]
    }
   ],
   "source": [
    "print(\"If nothing is printed -> all are successful.\")\n",
    "seeds = [4012, 5096, 8878, 8857, 9908]\n",
    "mappings = [\"no_mapping\", \"manual\", \"embedding\", \"topological\", \"thesaurus_affinity\", \"ood_clustering\"]\n",
    "eval_types = [\"all\", \"ood_validation\"]\n",
    "for seed in seeds:\n",
    "    for mapping in mappings:\n",
    "        for eval_type in eval_types:\n",
    "            if mapping == \"ood_clustering\" and eval_type == \"all\":\n",
    "                continue\n",
    "            path = f\"../data/predictions/almnps_{seed}/{mapping}/{eval_type}/eval.log\"\n",
    "            try:\n",
    "                with open(path) as f:\n",
    "                    lines = f.readlines()\n",
    "                    if lines[-1] != \"All results saved. Exiting.\\n\":\n",
    "                        print(f\"{seed}\\t{mapping}\\t{eval_type}\")\n",
    "            except:\n",
    "                print(f\"{seed}\\t{mapping}\\t{eval_type}\")"
   ]
  }
 ],
 "metadata": {
  "kernelspec": {
   "display_name": "2yp",
   "language": "python",
   "name": "python3"
  },
  "language_info": {
   "codemirror_mode": {
    "name": "ipython",
    "version": 3
   },
   "file_extension": ".py",
   "mimetype": "text/x-python",
   "name": "python",
   "nbconvert_exporter": "python",
   "pygments_lexer": "ipython3",
   "version": "3.9.16"
  },
  "orig_nbformat": 4
 },
 "nbformat": 4,
 "nbformat_minor": 2
}
