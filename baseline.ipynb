{
 "cells": [
  {
   "cell_type": "code",
   "execution_count": 1,
   "metadata": {},
   "outputs": [],
   "source": [
    "data_path = 'CrossRE/crossre_data/'\n",
    "topics = ['ai', 'literature', 'music', 'news', 'politics', 'science']\n",
    "label2idx = {'part-of':0, 'physical':1, 'usage':2, 'role':3, 'social':4, \n",
    "             'general-affiliation':5, 'compare':6, 'temporal':7, 'artifact':8, \n",
    "             'origin':9, 'topic':10, 'opposite':11, 'cause-effect':12,\n",
    "             'win-defeat':13, 'type-of':14, 'named':15, 'related-to':16}\n",
    "\n",
    "batch_size = 32"
   ]
  },
  {
   "cell_type": "code",
   "execution_count": 2,
   "metadata": {},
   "outputs": [],
   "source": [
    "import sys\n",
    "\n",
    "import numpy as np\n",
    "import pandas as pd\n",
    "import torch\n",
    "\n",
    "import preprocessing\n",
    "\n",
    "from collections import defaultdict\n",
    "from torch.utils.data import DataLoader"
   ]
  },
  {
   "attachments": {},
   "cell_type": "markdown",
   "metadata": {},
   "source": [
    "## Read Data"
   ]
  },
  {
   "cell_type": "code",
   "execution_count": 3,
   "metadata": {},
   "outputs": [],
   "source": [
    "train_data = pd.DataFrame(columns=['doc_key', 'sentence', 'ner', 'relations'])\n",
    "dev_data = pd.DataFrame(columns=['doc_key', 'sentence', 'ner', 'relations'])\n",
    "test_data = pd.DataFrame(columns=['doc_key', 'sentence', 'ner', 'relations'])\n",
    "for t in topics:\n",
    "    train_data = pd.concat((train_data, pd.read_json(f'{data_path}{t}-train.json', lines=True)), axis=0, ignore_index=True)\n",
    "    dev_data = pd.concat((dev_data, pd.read_json(f'{data_path}{t}-dev.json', lines=True)), axis=0, ignore_index=True)\n",
    "    test_data = pd.concat((test_data, pd.read_json(f'{data_path}{t}-test.json', lines=True)), axis=0, ignore_index=True)"
   ]
  },
  {
   "cell_type": "code",
   "execution_count": 4,
   "metadata": {},
   "outputs": [],
   "source": [
    "#train_data = preprocessing.prepare_data(f'{data_path}{topics[0]}-train.json', label2idx, 32)\n",
    "def get_all_crossre(data_path, topics, batch_size = 32, dataset='train'):\n",
    "    sentences, entities_1, entities_2, relations = [], [], [], []\n",
    "    for t in topics:\n",
    "        s, e_1, e_2, r = preprocessing.read_json_file(f'{data_path}{t}-{dataset}.json', label2idx)\n",
    "        sentences += s\n",
    "        entities_1 += e_1\n",
    "        entities_2 += e_2\n",
    "        relations += r\n",
    "\n",
    "    return DataLoader(preprocessing.DatasetMapper(sentences, entities_1, entities_2, relations), batch_size=batch_size)\n",
    "\n",
    "def run(classifier, criterion, optimizer, dataset, mode='train', return_predictions=False):\n",
    "    stats = defaultdict(list)\n",
    "\n",
    "    # set model to training mode\n",
    "    if mode == 'train':\n",
    "        classifier.train()\n",
    "    # set model to eval mode\n",
    "    elif mode == 'eval':\n",
    "        classifier.eval()\n",
    "\n",
    "    # iterate over batches\n",
    "    batch_idx = 0\n",
    "    for sentences, entities_1, entities_2, labels in dataset:\n",
    "        batch_idx += 1\n",
    "\n",
    "        # when training, perform both forward and backward pass\n",
    "        if mode == 'train':\n",
    "            # zero out previous gradients\n",
    "            optimizer.zero_grad()\n",
    "\n",
    "            # forward pass\n",
    "            predictions = classifier(list(sentences), entities_1, entities_2)\n",
    "\n",
    "            # compute loss\n",
    "            loss = criterion(predictions['flat_logits'], labels)\n",
    "\n",
    "            # propagate loss\n",
    "            loss.backward()\n",
    "            optimizer.step()\n",
    "\n",
    "        # when evaluating, perform forward pass without gradients\n",
    "        elif mode == 'eval':\n",
    "            with torch.no_grad():\n",
    "                # forward pass\n",
    "                predictions = classifier(list(sentences), entities_1, entities_2)\n",
    "                loss = criterion(predictions['flat_logits'], labels)\n",
    "\n",
    "        # calculate and store accuracy metrics\n",
    "        stats['loss'].append(float(loss.detach()))\n",
    "        evaluation_metrics = criterion.get_classification_report(predictions['labels'], labels)\n",
    "        stats['micro-f1'].append(evaluation_metrics['accuracy'])\n",
    "        stats['macro-f1'].append(evaluation_metrics['macro avg']['f1-score'])\n",
    "        stats['weighted-f1'].append(evaluation_metrics['weighted avg']['f1-score'])\n",
    "\n",
    "        # store predictions\n",
    "        if return_predictions:\n",
    "            # iterate over inputs items\n",
    "            for sidx in range(predictions['labels'].shape[0]):\n",
    "                # append non-padding predictions as list\n",
    "                predicted_labels = predictions['labels'][sidx]\n",
    "                stats['predictions'].append(predicted_labels[predicted_labels != -1].item())\n",
    "\n",
    "        # print batch statistics\n",
    "        sys.stdout.write(\n",
    "                f\"\\r[{mode.capitalize()} | Batch {batch_idx}] \"\n",
    "                f\"Micro-f1: {np.mean(stats['micro-f1']):.4f}, \"\n",
    "                f\"Macro-f1: {np.mean(stats['macro-f1']):.4f}, \"\n",
    "                f\"Weighted-f1: {np.mean(stats['weighted-f1']):.4f}, \"\n",
    "                f\"Loss: {np.mean(stats['loss']):.4f}\")\n",
    "        sys.stdout.flush()\n",
    "\n",
    "    # clear line\n",
    "    print(\"\\r\", end='')\n",
    "\n",
    "    return stats"
   ]
  },
  {
   "cell_type": "code",
   "execution_count": 5,
   "metadata": {},
   "outputs": [],
   "source": [
    "train_data = get_all_crossre(data_path, topics, batch_size)\n",
    "dev_data = get_all_crossre(data_path, topics, batch_size, dataset='dev')\n",
    "# test_data = get_all_crossre(data_path, topics, dataset='test')"
   ]
  },
  {
   "cell_type": "code",
   "execution_count": 6,
   "metadata": {},
   "outputs": [
    {
     "name": "stdout",
     "output_type": "stream",
     "text": [
      "Popular approaches of <E1:product> opinion-based recommender system </E1:product> utilize various techniques including <E2:field> text mining </E2:field> , information retrieval , sentiment analysis ( see also Multimodal sentiment analysis ) and deep learning X.Y. Feng , H. Zhang , Y.J. Ren , P.H. Shang , Y. Zhu , Y.C. Liang , R.C. Guan , D. Xu , ( 2019 ) , , 21 ( 5 ) : e12957 . tensor(3) tensor(12) tensor(0)\n",
      "Several of these programs are available online , such as Google Translate and the <E2:product> SYSTRAN system </E2:product> that powers AltaVista 's <E1:product> BabelFish </E1:product> ( now Yahoo 's Babelfish as of 9 May 2008 ) . tensor(22) tensor(14) tensor(2)\n",
      "Examples of <E2:field> supervised learning </E2:field> are <E1:algorithm> Naive Bayes classifier </E1:algorithm> , Support vector machine , mixtures of Gaussians , and network . tensor(7) tensor(2) tensor(14)\n",
      "Voice user interfaces that interpret and manage conversational state are challenging to design due to the inherent difficulty of integrating complex <E2:field> natural language processing </E2:field> tasks like coreference resolution , named-entity recognition , <E1:task> information retrieval </E1:task> , and dialog management . tensor(34) tensor(21) tensor(0)\n",
      "The first <E2:product> palletizing robot </E2:product> was introduced in 1963 by the <E1:organisation> Fuji Yusoki Kogyo Company. </E1:organisation> by KUKA robotics in Germany , and the Programmable Universal Machine for Assembly was invented by Victor Scheinman in 1976 , and the design was sold to Unimation . tensor(12) tensor(2) tensor(3)\n",
      "Feature extraction and dimension reduction can be combined in one step using Principal Component Analysis ( PCA ) , <E1:algorithm> linear discriminant analysis </E1:algorithm> ( LDA ) , or canonical correlation analysis ( CCA ) techniques as a <E2:misc> pre-processing </E2:misc> step , followed by clustering by k -NN on feature vectors in reduced-dimension space . tensor(19) tensor(38) tensor(5)\n",
      "<E2:algorithm> Linear-fractional programming </E2:algorithm> ( <E1:algorithm> LFP </E1:algorithm> ) is a generalization of linear programming ( LP ) . tensor(5) tensor(0) tensor(15)\n",
      "Feature extraction and dimension reduction can be combined in one step using principal component analysis ( PCA ) , <E2:algorithm> linear discriminant analysis </E2:algorithm> ( <E1:algorithm> LDA </E1:algorithm> ) , canonical correlation analysis ( CCA ) , or non-negative matrix factorization ( NMF ) techniques as a pre-processing step followed by clustering by K-NN on feature vectors in reduced-dimension space . tensor(25) tensor(19) tensor(15)\n",
      "Licensing the original patent awarded to inventor George Devol , <E2:researcher> Engelberger </E2:researcher> developed the first industrial robot in the United States , the <E1:product> Unimate </E1:product> , in the 1950s . tensor(24) tensor(10) tensor(8)\n",
      "<E1:programlang> CycL </E1:programlang> in <E2:field> computer science </E2:field> and artificial intelligence is an ontology language used by Doug Lenat 's Cyc artificial project . tensor(0) tensor(4) tensor(0)\n",
      "The speech synthesis is verging on being completely indistinguishable from a real human 's voice with the 2016 introduction of the voice editing and generation software Adobe Voco , a prototype slated to be a part of the Adobe Creative Suite and <E1:organisation> DeepMind </E1:organisation> WaveNet , a prototype from <E2:organisation> Google </E2:organisation> . tensor(42) tensor(50) tensor(0)\n",
      "In 1351 , during the reign of Emperor Toghon Temür of the Yuan dynasty , 93rd-generation descendant <E2:writer> Kong Huan </E2:writer> ( <E1:writer> 孔浣 </E1:writer> ) ' s 2nd son Kong Shao ( 孔昭 ) moved from China to Korea during the Goryeo , and was received courteously by Princess Noguk ( the Mongolian-born wife of the future king Gongmin ) . tensor(22) tensor(17) tensor(15)\n",
      "This uses the words of war poet <E2:writer> Wilfred Owen </E2:writer> ' s <E1:poem> At a Calvary near the Ancre </E1:poem> . tensor(13) tensor(7) tensor(8)\n",
      "Private Eye parodied Sue Townsend ' s The Secret Diary of Adrian Mole , age 13 ¾ to write <E2:book> The Secret Diary of John Major , age 47 ¾ </E2:book> , in which Major was portrayed as naïve and childish , keeping lists of his enemies in a Rymans Notebook called his <E1:misc> Bastards Book </E1:misc> , and featuring my wife Norman and Mr Dr Mawhinney as recurring character s . tensor(53) tensor(19) tensor(0)\n",
      "Her stage credits include <E2:writer> Norman Mailer </E2:writer> ' s <E1:book> The Deer Park </E1:book> , Israel Horovitz ' s The Indian Wants the Bronx , Neil Simon 's The Good Doctor and Joseph Papp ' s 1974 Richard III at the Lincoln Center . tensor(10) tensor(4) tensor(8)\n",
      "According to Willmott , <E1:writer> Yeats </E1:writer> 's poems often move from the world of social interaction to a place where the individual finds seclusion , as is also the case in the pastoral <E2:writer> Yeats </E2:writer> 's earlier poems The Lake Isle of Innisfree , The Song of the Happy Shepherd , and The Sad Shepherd . tensor(4) tensor(34) tensor(15)\n",
      "<E2:writer> Dickens </E2:writer> has been praised by many of his fellow writers - from Leo Tolstoy to George Orwell , G. K. Chesterton , and <E1:writer> Tom Wolfe </E1:writer> - for his realism , comedy , prose style , unique characterisations , and social criticism . tensor(25) tensor(0) tensor(4)\n",
      "<E2:writer> Sagan </E2:writer> and his works received numerous awards and honors , including the NASA Distinguished Public Service Medal , the National Academy of Sciences Public Welfare Medal , the Pulitzer Prize for General Non-Fiction for his book The Dragons of Eden , and , regarding <E1:book> Cosmos : A Personal Voyage </E1:book> , two Emmy Award s , the Peabody Award , and the Hugo Award . tensor(46) tensor(0) tensor(8)\n",
      "Paul Christopher , J. D. Salinger ' s Holden Caulfield , and J. P. Donleavy ' s <E1:person> Sebastion Dangerfield </E1:person> in <E2:book> The Ginger Man </E2:book> ( 1955 ) are among the post-World War II literary heroes who have stymied Hollywood efforts to depict them.see J.P. Donnelley , 91 , Author Who Stirred Controversy With ' Ginger Man , ' Dies , The New York Times , September 14 , 2017 . tensor(17) tensor(22) tensor(0)\n",
      "For the general reader , Jonson 's reputation rests on a few lyrics that , though brief , are surpassed for grace and precision by very few <E2:literarygenre> Renaissance poems </E2:literarygenre> : <E1:poem> On My First Sonne </E1:poem> ; To Celia ; To Penshurst ; and the epitaph on Salomon Pavy , a boy player abducted from his parents who acted in Jonson 's plays . tensor(32) tensor(27) tensor(5)\n",
      "The story of a powerful ( fairy ) woman who takes a lover on condition that he obey a particular prohibition is common in medieval poetry : the French lais of Desiré , Graelent , and Guingamor , and <E2:writer> Chrétien de Troyes </E2:writer> ' s romance <E1:poem> Yvain , the Knight of the Lion </E1:poem> , all share similar plot elements . tensor(47) tensor(39) tensor(8)\n",
      "The <E1:literarygenre> poems </E1:literarygenre> he had written during his time in prison were so effective that Dudley Randall , a poet and owner of <E2:organisation> Broadside Press </E2:organisation> , published Knight 's first volume of verse , Poems from Prison , and hailed Knight as one of the major poets of the Black Arts Movement . tensor(1) tensor(24) tensor(3)\n",
      "The period around World War II also saw the publication of the time travel novel Lest Darkness Fall by L. Sprague de Camp , in which an <E1:misc> American academic </E1:misc> travels to Italy at the time of the <E2:misc> Byzantine </E2:misc> invasion of the Ostrogoths . tensor(27) tensor(39) tensor(7)\n",
      "Caterina di Giacomo di Benincasa was born on 25 March 1347 ( shortly before the <E1:misc> Black Death </E1:misc> ravaged <E2:location> Europe </E2:location> ) in Siena , Republic of Siena ( today Italy ) , to Lapa Piagenti , the daughter of a local poet , and Giacomo di Benincasa , a cloth dyer who ran his enterprise with the help of his sons . tensor(15) tensor(20) tensor(1)\n",
      "Since then there has been a renaissance in <E1:musicgenre> Sacred Harp </E1:musicgenre> singing , with annual conventions popping up in United States and in a number of European countries recently , including the United Kingdom , Germany , Ireland and Poland , as well as in <E2:country> Australia </E2:country> . tensor(8) tensor(46) tensor(1)\n",
      "He also appeared with RBX , <E1:musicalartist> Nas </E1:musicalartist> and <E2:musicalartist> KRS-One </E2:musicalartist> on East Coast Killer , West Coast Killer from Dr. Dre 's Dr. Dre Presents the Aftermath album , and contributed to an album entitled The Psycho Realm with Psycho Realm . tensor(6) tensor(10) tensor(3)\n",
      "Two of his most popular recordings were <E2:song> Layla </E2:song> , recorded with <E1:band> Derek and the Dominos </E1:band> ; and Robert Johnson ' s Cross Road Blues , recorded with Cream . tensor(13) tensor(7) tensor(3)\n",
      "By the end of World War II , mountaineer string band music known as Bluegrass music had emerged when Bill Monroe joined with Lester Flatt and <E1:musicalartist> Earl Scruggs </E1:musicalartist> , introduced by Roy Acuff at the <E2:location> Grand Ole Opry </E2:location> . tensor(26) tensor(37) tensor(1)\n",
      "In <E2:country> Finland </E2:country> , there emerged a scene that mixed the first wave black metal style with elements of death metal and <E1:musicgenre> grindcore </E1:musicgenre> ; this included Beherit , Archgoat and Impaled Nazarene , whose debut album Tol Cormpt Norz Norz Norz Rock Hard journalist Wolf-Rüdiger Mühlmann considers a part of war metal 's roots . tensor(23) tensor(1) tensor(1)\n",
      "Bands like Flogging Molly , Black 47 , <E1:band> Dropkick Murphys </E1:band> , The Young Dubliners , The Tossers introduced a hybrid of <E2:musicgenre> Celtic rock </E2:musicgenre> , Punk rock , reggae , Hardcore punk and other elements in the 1990s that has become popular with Irish-American youth . tensor(8) tensor(23) tensor(5)\n",
      "It started with <E2:musicgenre> pop music </E2:musicgenre> singers like <E1:person> Glen Campbell </E1:person> , Bobbie Gentry , John Denver , Olivia Newton-John , Anne Murray , B. J. Thomas , The Bellamy Brothers , and Linda Ronstadt having hits on the country charts . tensor(9) tensor(3) tensor(5)\n",
      "With the influence of Tropicalismo , Traditional Samba and <E1:musicgenre> Bossa Nova </E1:musicgenre> , <E2:musicgenre> MPB </E2:musicgenre> ( Música popular brasileira ) , or Brazilian Popular Music , became highly singer-songwriter based . tensor(9) tensor(14) tensor(3)\n",
      "The band also released three full-length albums dubbed ( and later packaged together as ) <E2:album> The Trilogy </E2:album> : The Maggot , The Bootlicker , and <E1:album> The Crybaby </E1:album> . tensor(27) tensor(15) tensor(0)\n",
      "For Mirrors , instead of working with previous producers Sandy Pearlman ( who instead went on to manage Black Sabbath ) and Murray Krugman , Blue Öyster Cult chose <E1:person> Tom Werman </E1:person> , who had worked with acts such as <E2:band> Cheap Trick </E2:band> and Ted Nugent . tensor(29) tensor(41) tensor(3)\n",
      "Attracting over 200,000 fans , Black Sabbath appeared alongside popular 1970s <E2:musicgenre> rock </E2:musicgenre> and pop bands Deep Purple , Eagles , Emerson , Lake & Palmer , Rare Earth , Seals and Crofts , Black Oak Arkansas , and <E1:band> Earth , Wind & Fire </E1:band> . tensor(40) tensor(11) tensor(5)\n",
      "The series featured five albums of Masada themes including <E1:album> Masada Guitars </E1:album> by Marc Ribot , Bill Frisell , and <E2:musicalartist> Tim Sparks </E2:musicalartist> ; Masada Recital by Mark Feldman and Sylvie Courvoisier ; Masada Rock by Rashanim ; and two albums featuring various artists , Voices in the Wilderness and The Unknown Masada . tensor(9) tensor(21) tensor(8)\n",
      "Blues subgenres include country blues , such as Delta blues and Piedmont blues , as well as <E2:musicgenre> urban blues </E2:musicgenre> styles such as Chicago blues and <E1:musicgenre> West Coast blues </E1:musicgenre> . tensor(27) tensor(17) tensor(0)\n",
      "Today , musicians as diverse as Keith Urban , Rod Stewart , Taj Mahal , Joe Satriani , <E1:musicalartist> David Hidalgo </E1:musicalartist> , Larry Lalonde and Doc Watson play the <E2:musicalinstrument> six-string guitar banjo </E2:musicalinstrument> . tensor(18) tensor(30) tensor(2)\n",
      "<E2:musicgenre> Christian alternative music </E2:musicgenre> has its roots in the early 1980s , as the earliest efforts at Christian punk and new wave were recorded by artists like Andy McCarroll and Moral Support , Undercover , <E1:band> the 77s </E1:band> , Steve Scott , Adam Again , Quickflight , Daniel Amos , Youth Choir ( later renamed the Choir ) , Lifesavers Underground , Michael Knott , the Prayer Chain , Altar Boys , Breakfast with Amy , Steve Taylor , 4-4-1 , David Edwards and Vector . tensor(36) tensor(0) tensor(5)\n",
      "Germany 's representative to the <E2:organisation> European Union </E2:organisation> 's veterinary committee <E1:person> Werner Zwingmann </E1:person> said on Wednesday consumers should buy sheepmeat from countries other than Britain until the scientific advice was clearer . tensor(12) tensor(5) tensor(3)\n",
      "State media quoted <E2:location> China </E2:location> 's top negotiator with Taipei , <E1:person> Tang Shubei </E1:person> , as telling a visiting group from Taiwan on Wednesday that it was time for the rivals to hold political talks . tensor(12) tensor(3) tensor(3)\n",
      "\" The message that we sent to ( Syrian President Hafez al- ) Assad is that Israel is ready at any time without preconditions to enter peace negotiations , \" <E1:misc> Israeli Foreign Minister </E1:misc> <E2:person> David Levy </E2:person> told Israel Radio in an interview . tensor(30) tensor(35) tensor(15)\n",
      "An Iranian exile group based in <E1:location> Iraq </E1:location> vowed on Thursday to extend support to Iran 's Kurdish rebels after they were attacked by Iranian troops deep inside <E2:location> Iraq </E2:location> last month . tensor(6) tensor(29) tensor(15)\n",
      "Mujahideen Khalq said Iranian troops had also been shelling <E1:organisation> KDP </E1:organisation> positions in <E2:location> Qasri </E2:location> region in Suleimaniya province near the Iranian border over the last two days . tensor(9) tensor(14) tensor(1)\n",
      "Abu Rdainah said <E1:person> Arafat </E1:person> had decided against flying to the West Bank on Thursday , after Israel lifted the ban , because he had a busy schedule in <E2:location> Gaza </E2:location> and would not be free until Monday . tensor(3) tensor(30) tensor(1)\n",
      "The Walwari has one deputy , <E1:politician> Christiane Taubira </E1:politician> , and the PSG has one deputy , Chantal Berthelot , who defeated long-time UMP incumbent <E2:politician> Léon Bertrand </E2:politician> . tensor(6) tensor(26) tensor(13)\n",
      "In Italy , the <E2:politicalparty> Italian Social Movement </E2:politicalparty> led by <E1:politician> Giorgio Almirante </E1:politician> was a major neo-fascist movement that transformed itself into a self-described post-fascist movement called the National Alliance ( AN ) , which has been an ally of Silvio Berlusconi ' s Forza Italia for a decade . tensor(11) tensor(4) tensor(3)\n",
      "Meanwhile , he began to lay the groundwork for his candidacy in the 1980 Republican Party presidential primaries . In the 1980 Republican primary campaign , <E1:politician> Bush </E1:politician> would face <E2:politician> Ronald Reagan </E2:politician> , who was widely regarded as the front-runner , as well as other contenders like Senator Bob Dole , Senator Howard Baker , Texas Governor John Connally , Congressman Phil Crane , and Congressman John B. Anderson . tensor(26) tensor(31) tensor(11)\n",
      "And in 2011 , Retired General <E1:politician> Otto Pérez Molina </E1:politician> of the Patriotic Party won the presidential election in a runoff against populist <E2:politician> Manuel Baldizón </E2:politician> of the LIDER party . tensor(6) tensor(24) tensor(13)\n",
      "After narrowly losing the 1969 Australian federal election , Whitlam led Labor to victory at the 1972 election after 23 years of continuous <E1:politicalparty> Liberal Party of Australia </E1:politicalparty> - <E2:politicalparty> National Party of Australia </E2:politicalparty> Coalition Government . tensor(23) tensor(30) tensor(3)\n",
      "In the nineteenth century , the members of the failed Decembrist revolt , Polish nobles who resisted Russian rule , and members of various socialist revolutionary groups , including <E2:misc> Bolsheviks </E2:misc> such as <E1:politician> Sergo Ordzhonikidze </E1:politician> , Leon Trotsky , and Joseph Stalin were all sent into exile . tensor(34) tensor(29) tensor(5)\n",
      "Following Genscher 's resignation , Chancellor Helmut Kohl and FDP chairman <E1:politician> Otto Graf Lambsdorff </E1:politician> named <E2:politician> Irmgard Schwaetzer </E2:politician> , a former aide to Genscher , to be the new Foreign Minister . tensor(11) tensor(17) tensor(3)\n",
      "During the last four years of the <E2:country> Second Polish Republic </E2:country> , the major politicians included President <E1:politician> Ignacy Mościcki </E1:politician> , Foreign Minister Józef Beck and the Commander-in-Chief of the Polish Army , Edward Rydz-Śmigły . tensor(18) tensor(7) tensor(3)\n",
      "National elections held on 13 May 2001 returned <E1:politician> Berlusconi </E1:politician> to power at the head of the five-party center-right House of Freedoms coalition , comprising the Prime Minister 's own party , <E2:politicalparty> Forza Italia </E2:politicalparty> , the National Alliance , the Lega Nord , the Christian Democratic Center and the United Christian Democrats . tensor(8) tensor(33) tensor(3)\n",
      "Three United States presidents have been impeached by the <E1:misc> House of Representatives </E1:misc> : <E2:politician> Andrew Johnson </E2:politician> in 1868 , Bill Clinton in 1998 , and Donald Trump in 2019 . tensor(9) tensor(15) tensor(3)\n",
      "In the 1992 United States presidential election , Bush and Quayle were challenged in their bid for reelection by the Democratic ticket of Arkansas Governor Bill Clinton and Tennessee Senator Al Gore and the independent ticket of <E2:location> Texas </E2:location> businessman <E1:politician> Ross Perot </E1:politician> and retired Vice Admiral James Stockdale . tensor(41) tensor(37) tensor(1)\n",
      "In the weeks leading up to the <E2:election> 1852 United States presidential election </E2:election> , he campaigned in numerous Southern states for Democratic candidates Franklin Pierce and <E1:politician> William R. King </E1:politician> . tensor(27) tensor(7) tensor(7)\n",
      "Six other Republican senators - Wayne Morse , <E1:politician> Irving Ives </E1:politician> , Charles W. Tobey , Edward John Thye , George Aiken , and Robert C. Hendrickson - joined her in condemning <E2:politician> McCarthy </E2:politician> 's tactics . tensor(8) tensor(33) tensor(11)\n",
      "In 1961 , Tito co-founded the movement with Egypt 's Gamal Abdel Nasser , India 's Jawaharlal Nehru , <E2:country> Indonesia </E2:country> 's <E1:politician> Sukarno </E1:politician> and Ghana 's Kwame Nkrumah , in an action called The Initiative of Five ( Tito , Nehru , Nasser , Sukarno , Nkrumah ) , thus establishing strong ties with third world countries . tensor(23) tensor(19) tensor(1)\n",
      "Following their victory , the <E1:organisation> Khmer Rouge </E1:organisation> who were led by Pol Pot , Nuon Chea , Ieng Sary , Son Sen , and Khieu Samphan immediately set about forcibly evacuating the country 's major cities and in 1976 they renamed the country <E2:country> Democratic Kampuchea </E2:country> . tensor(5) tensor(45) tensor(1)\n",
      "<E1:scientist> August Kopff </E1:scientist> , a colleague of Wolf at <E2:university> Heidelberg </E2:university> , then discovered 617 Patroclus eight months after Achilles , and , in early 1907 , he discovered the largest of all Jupiter trojans , 624 Hektor . tensor(0) tensor(10) tensor(1)\n",
      "<E1:enzyme> DNA methyltransferase </E1:enzyme> is recruited to the site and adds <E2:misc> methyl groups </E2:misc> to the cytosine of the CpG dinucleotides . tensor(0) tensor(11) tensor(16)\n",
      "The Thimble Tickle squid was found aground offshore , alive , on 2 November 1878 , near <E1:location> Little Bay Copper Mine </E1:location> , <E2:location> Thimble Tickle Bay </E2:location> , Notre Dame Bay , Newfoundland Colony . tensor(17) tensor(24) tensor(1)\n",
      "Still within the same <E2:misc> PCR tube </E2:misc> , overnight <E1:misc> IVT reaction </E1:misc> is assembled , including standard IVT buffer , NTPs , T7 RNA polymerase , RNase inhibitor , DMSO , etc . tensor(10) tensor(4) tensor(1)\n",
      "Lindsay and his wife Rachel translated Hans Kramers book , The Atom and the Bohr Theory of its Structure , in 1923 , Hans Kramers & amp ; <E2:scientist> Helge Holst </E2:scientist> , <E1:book> The Atom and the Bohr Theory of its Structure : An Elementary Presentation </E1:book> , Gyldendal , 210pp . tensor(33) tensor(28) tensor(8)\n",
      "<E1:misc> Lost </E1:misc> was created by Jeffrey Lieber , <E2:person> J. J. Abrams </E2:person> and Damon Lindelof , who share story writing credits for the pilot episode , which Abrams directed . tensor(0) tensor(9) tensor(8)\n",
      "Nihonium was first reported to have been created in 2003 by a Russian-American collaboration at the Joint Institute for Nuclear Research ( JINR ) in Dubna , Russia , and in 2004 by a team of <E1:misc> Japanese scientists </E1:misc> at <E2:organisation> Riken </E2:organisation> in Wakō , Japan . tensor(36) tensor(41) tensor(1)\n",
      "The <E2:misc> Apollo 7 mission </E2:misc> is dramatized in the 1998 miniseries From the Earth to the Moon episode <E1:misc> We Have Cleared the Tower </E1:misc> , with Mark Harmon as Schirra , John Mese as Eisele , Fredric Lehne as Cunningham , and Max Wright as Wendt . tensor(19) tensor(1) tensor(10)\n",
      "The Scottish chemist <E1:scientist> Joseph Black </E1:scientist> ( the first experimental chemist ) and the Dutchman J.B. van Helmont discovered carbon dioxide , or what <E2:scientist> Black </E2:scientist> called ' fixed air ' in 1754 ; Henry Cavendish discovered hydrogen and elucidated its properties and Joseph Priestley and , independently , Carl Wilhelm Scheele isolated pure oxygen . tensor(3) tensor(25) tensor(15)\n",
      "<E1:scientist> Lin </E1:scientist> is recognized for his contributions to stem cell research , especially for his discoveries of the Piwi / <E2:protein> Argonaute </E2:protein> ( AGO ) gene family and the Piwi-interacting RNA s ( piRNAs ) , and for proving the stem cell niche theory . tensor(0) tensor(21) tensor(16)\n",
      "The observatory made headlines briefly with the announcement on 10 December 1983 of the discovery of an unknown object at first described as possibly as large as the giant planet Jupiter and possibly so close to <E1:astronomicalobject> Earth </E1:astronomicalobject> that it would be part of this <E2:misc> solar system </E2:misc> . tensor(36) tensor(46) tensor(0)\n",
      "The Fall of Singapore in February 1942 led him to offer his services to <E1:scientist> John Madsen </E1:scientist> , the Professor of Electrical Engineering at the University of Sydney , and the head of the Radiophysics Laboratory at the <E2:organisation> Council for Scientific and Industrial Research </E2:organisation> , which was responsible for developing radar . tensor(14) tensor(39) tensor(3)\n"
     ]
    },
    {
     "name": "stderr",
     "output_type": "stream",
     "text": [
      "C:\\Users\\jonas\\AppData\\Local\\Packages\\PythonSoftwareFoundation.Python.3.10_qbz5n2kfra8p0\\LocalCache\\local-packages\\Python310\\site-packages\\torch\\autograd\\profiler.py:485: UserWarning: Failed to initialize NumPy: module compiled against API version 0x10 but this version of numpy is 0xf (Triggered internally at ..\\torch\\csrc\\utils\\tensor_numpy.cpp:77.)\n",
      "  self.handle: torch.Tensor = torch.zeros(1)\n"
     ]
    }
   ],
   "source": [
    "for sentences, entities_1, entities_2, labels in train_data:\n",
    "    print(sentences[0], entities_1[0], entities_2[0], labels[0])"
   ]
  },
  {
   "attachments": {},
   "cell_type": "markdown",
   "metadata": {},
   "source": [
    "# Music Baseline"
   ]
  },
  {
   "cell_type": "code",
   "execution_count": 7,
   "metadata": {},
   "outputs": [],
   "source": [
    "music_train_data = preprocessing.prepare_data(f'{data_path}music-train.json', label2idx, 32)"
   ]
  },
  {
   "cell_type": "code",
   "execution_count": null,
   "metadata": {},
   "outputs": [],
   "source": []
  }
 ],
 "metadata": {
  "kernelspec": {
   "display_name": "base",
   "language": "python",
   "name": "python3"
  },
  "language_info": {
   "codemirror_mode": {
    "name": "ipython",
    "version": 3
   },
   "file_extension": ".py",
   "mimetype": "text/x-python",
   "name": "python",
   "nbconvert_exporter": "python",
   "pygments_lexer": "ipython3",
   "version": "3.10.10"
  },
  "orig_nbformat": 4
 },
 "nbformat": 4,
 "nbformat_minor": 2
}
