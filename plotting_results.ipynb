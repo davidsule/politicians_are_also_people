{
 "cells": [
  {
   "cell_type": "code",
   "execution_count": null,
   "metadata": {},
   "outputs": [],
   "source": [
    "import json\n",
    "import seaborn as sns  \n",
    "import dotenv\n",
    "import numpy as np\n",
    "import matplotlib.pyplot as plt\n",
    "import matplotlib as mpl\n",
    "import pandas as pd"
   ]
  },
  {
   "cell_type": "code",
   "execution_count": null,
   "metadata": {},
   "outputs": [],
   "source": [
    "# Read function\n",
    "def load_result_json(mapping_method, ood=False):\n",
    "    ## create path\n",
    "    path = f\"data/results/almnps_{mapping_method}/\"\n",
    "    \n",
    "    ## open ood or all\n",
    "    if ood:\n",
    "        path += \"ood_validation.json\"\n",
    "    else:\n",
    "        path += \"all.json\"\n",
    "    \n",
    "    ## open json file and read\n",
    "    file = open(path, \"r\")\n",
    "    results = json.load(file)\n",
    "    file.close()\n",
    "    \n",
    "    return results"
   ]
  },
  {
   "cell_type": "code",
   "execution_count": null,
   "metadata": {},
   "outputs": [],
   "source": [
    "envs = dotenv.dotenv_values()\n",
    "list_of_relations = envs[\"RELATION_LABELS\"].split(\" \")\n",
    "list_of_relations.sort()\n",
    "\n",
    "## load file \n",
    "results_for_method = load_result_json(\"embedding\", ood=True)\n",
    "\n",
    "# list of domians\n",
    "domains = list(results_for_method.keys())[2:]\n",
    "\n",
    "# create shape of array to use in functions \n",
    "shape_of_array = (len(list_of_relations), len(domains))"
   ]
  },
  {
   "attachments": {},
   "cell_type": "markdown",
   "metadata": {},
   "source": [
    "## Helper functions"
   ]
  },
  {
   "cell_type": "code",
   "execution_count": null,
   "metadata": {},
   "outputs": [],
   "source": [
    "def get_all_f1_scores(results):\n",
    "\n",
    "    ## create empty array\n",
    "    data = np.empty(shape_of_array)\n",
    "\n",
    "    ## loop over domains\n",
    "    for i, domain in enumerate(domains):\n",
    "\n",
    "        ## loop over relations    \n",
    "        for j, relation in enumerate(list_of_relations):\n",
    "            \n",
    "            ## get support for relation\n",
    "            support = results[domain][relation][\"support\"]\n",
    "\n",
    "            if support == 0: # if support is 0, then f1-score is 0\n",
    "                data[j,i] = None\n",
    "            else: # if the relation is in the domain\n",
    "\n",
    "                ## get f1 score and add to array\n",
    "                data[j,i] = results[domain][relation][\"f1-score\"]\n",
    "    \n",
    "    return data\n",
    "\n",
    "def get_total_support_for_domain(results, domain):\n",
    "    \n",
    "    total_support = 0\n",
    "    \n",
    "    ## loop over relations\n",
    "    for relation in list_of_relations:\n",
    "        \n",
    "        ## get support for relation\n",
    "        support = results[domain][relation][\"support\"]\n",
    "        \n",
    "        ## add to total support\n",
    "        total_support += support\n",
    "    \n",
    "    return total_support\n",
    "\n",
    "def weighted_f1_score(results):\n",
    "    \n",
    "    weighted_f1 = []\n",
    "\n",
    "    ## get all f1 scores to use in calculations\n",
    "    all_f1_scores = get_all_f1_scores(results)\n",
    "    \n",
    "    ## for each domains calculate weighted f1-score\n",
    "    for i, domain in enumerate(domains):\n",
    "        \n",
    "        total_support = get_total_support_for_domain(results, domain)\n",
    "        weighted_f1_domain = 0\n",
    "        \n",
    "        for j, relation in enumerate(list_of_relations):\n",
    "            \n",
    "            ## get support for relation\n",
    "            support = results[domain][relation][\"support\"]\n",
    "\n",
    "            if support == 0: # if support is 0, then f1-score is 0\n",
    "                pass\n",
    "            else: # if the relation is in the domain\n",
    "\n",
    "                ## calculate weight\n",
    "                weight = support / total_support\n",
    "                \n",
    "                ## get f1-score\n",
    "                f1_relation = all_f1_scores[j][i]\n",
    "                \n",
    "                ## add to weighted f1-score\n",
    "                weighted_f1_domain += weight * f1_relation\n",
    "\n",
    "        weighted_f1.append(weighted_f1_domain)\n",
    "\n",
    "    return weighted_f1    \n",
    "\n",
    "def plot_weighted_f1_score_as_bar(results):\n",
    "    weighted_f1 = weighted_f1_score(results)\n",
    "    plt.figure(figsize=(10, 5))\n",
    "    plt.bar(domains, weighted_f1)\n",
    "    plt.title(\"Weighted F1-score for each domain\")\n",
    "    plt.xlabel(\"Domain\")\n",
    "    plt.ylabel(\"Weighted F1-score\")\n",
    "    plt.show()\n",
    "\n",
    "def plot_heat_map(results, domains, transposed=False):\n",
    "    data = get_all_f1_scores(results)\n",
    "    plt.figure(figsize=(10, 5))\n",
    "    cmap = mpl.cm.get_cmap(\"YlGn\")\n",
    "    cmap.set_bad(\"grey\")\n",
    "    if transposed:\n",
    "        ax = sns.heatmap(data.transpose(), annot=True, cmap=cmap , xticklabels=list_of_relations, yticklabels=domains)\n",
    "        ax.set_title(\"F1-score for each relation and domain\")\n",
    "        ax.set_xlabel(\"Relation\")\n",
    "        ax.set_ylabel(\"Domain\")\n",
    "    else:\n",
    "        ax = sns.heatmap(data, annot=True, cmap=cmap , xticklabels=domains, yticklabels=list_of_relations)\n",
    "        ax.set_title(\"F1-score for each relation and domain\")\n",
    "        ax.set_xlabel(\"Domain\")\n",
    "        ax.set_ylabel(\"Relation\")\n",
    "    plt.show()\n",
    "\n",
    "def plot_heat_map_mapping_ood(results_for_method, transposed=False):\n",
    "    \n",
    "    # list of domains\n",
    "    domains = list(results_for_method.keys())[2:]\n",
    "    # plotting\n",
    "    plot_heat_map(results_for_method, domains, transposed=transposed)"
   ]
  },
  {
   "cell_type": "code",
   "execution_count": null,
   "metadata": {},
   "outputs": [],
   "source": [
    "plot_heat_map(results_for_method, transposed=False, domains=domains)"
   ]
  },
  {
   "cell_type": "code",
   "execution_count": null,
   "metadata": {},
   "outputs": [],
   "source": [
    "weighted_f1 = weighted_f1_score(results_for_method)"
   ]
  },
  {
   "cell_type": "code",
   "execution_count": null,
   "metadata": {},
   "outputs": [],
   "source": [
    "plot_weighted_f1_score_as_bar(results_for_method)"
   ]
  },
  {
   "attachments": {},
   "cell_type": "markdown",
   "metadata": {},
   "source": [
    "## OOD "
   ]
  },
  {
   "cell_type": "code",
   "execution_count": null,
   "metadata": {},
   "outputs": [],
   "source": [
    "mapping_types = [\"no_mapping\", \"manual\", \"embedding\", \"ood_clustering\", \"topological\", \"thesaurus_affinity\"]\n",
    "for m in mapping_types:\n",
    "    print(\"Matrix For \", m)\n",
    "\n",
    "    results_for_method = load_result_json(m, ood=True)\n",
    "\n",
    "    plot_heat_map_mapping_ood(results_for_method, transposed=False)\n",
    "        "
   ]
  },
  {
   "cell_type": "code",
   "execution_count": null,
   "metadata": {},
   "outputs": [],
   "source": [
    "mapping_types = [\"no_mapping\", \"manual\", \"embedding\", \"ood_clustering\", \"topological\", \"thesaurus_affinity\"]\n",
    "\n",
    "fig, ax = plt.subplots(2, 3, figsize=(15, 10), sharey=True)\n",
    "\n",
    "for idx, m in enumerate(mapping_types):\n",
    "    print(\"Matrix For \", m)\n",
    "    row = idx // 3\n",
    "    column  = idx % 3\n",
    "    results_for_method = load_result_json(m, ood=True)\n",
    "\n",
    "    weighted_f1 = weighted_f1_score(results_for_method)\n",
    "\n",
    "    ax[row, column].bar(domains, weighted_f1)\n",
    "    ax[row, column].set_title(m)"
   ]
  },
  {
   "cell_type": "code",
   "execution_count": null,
   "metadata": {},
   "outputs": [],
   "source": [
    "df = pd.DataFrame(index=mapping_types, columns=domains)"
   ]
  },
  {
   "cell_type": "code",
   "execution_count": null,
   "metadata": {},
   "outputs": [],
   "source": [
    "df_1 = pd.DataFrame(index=domains, columns=mapping_types)"
   ]
  },
  {
   "cell_type": "code",
   "execution_count": null,
   "metadata": {},
   "outputs": [],
   "source": [
    "for m in mapping_types:\n",
    "    \n",
    "    results_for_method = load_result_json(m, ood=True)\n",
    "    \n",
    "    weighted_f1 = weighted_f1_score(results_for_method)\n",
    "    \n",
    "    for i, d in enumerate(domains):\n",
    "        \n",
    "        df_1[m][d] = weighted_f1[i]"
   ]
  },
  {
   "cell_type": "code",
   "execution_count": null,
   "metadata": {},
   "outputs": [],
   "source": [
    "cmap = mpl.cm.get_cmap(\"YlGn\")\n",
    "\n",
    "l = sns.color_palette(\"twilight\",6)"
   ]
  },
  {
   "cell_type": "code",
   "execution_count": null,
   "metadata": {},
   "outputs": [],
   "source": [
    "color_1 = [\"hotpink\", \"lightsteelblue\", \"green\", \"midnightblue\", \"mediumturquoise\", \"blue\"]\n",
    "ax = df_1.plot.bar(rot=0, figsize=(12, 6), title=\"Weighted F1-score for each domain\", ylabel=\"Weighted F1-score\", xlabel=\"Domain\")\n",
    "\n",
    "plt.savefig(\"figures/weighted_f1_score_for_each_domain.png\")\n"
   ]
  },
  {
   "cell_type": "code",
   "execution_count": null,
   "metadata": {},
   "outputs": [],
   "source": []
  }
 ],
 "metadata": {
  "kernelspec": {
   "display_name": "syp",
   "language": "python",
   "name": "python3"
  },
  "language_info": {
   "codemirror_mode": {
    "name": "ipython",
    "version": 3
   },
   "file_extension": ".py",
   "mimetype": "text/x-python",
   "name": "python",
   "nbconvert_exporter": "python",
   "pygments_lexer": "ipython3",
   "version": "3.11.0"
  },
  "orig_nbformat": 4
 },
 "nbformat": 4,
 "nbformat_minor": 2
}
