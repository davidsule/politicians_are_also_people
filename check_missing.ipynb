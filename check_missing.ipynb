{
 "cells": [
  {
   "cell_type": "code",
   "execution_count": 7,
   "metadata": {},
   "outputs": [
    {
     "name": "stdout",
     "output_type": "stream",
     "text": [
      "4012\telisa\tood_validation\n",
      "8878\tno_mapping\tood_validation\n",
      "8857\tno_mapping\tood_validation\n",
      "8857\tood_clustering\tood_validation\n",
      "9908\telisa\tood_validation\n",
      "9908\ttopological\tood_validation\n",
      "9908\tthesaurus_affinity\tood_validation\n"
     ]
    }
   ],
   "source": [
    "seeds = [4012, 5096, 8878, 8857, 9908]\n",
    "mappings = [\"no_mapping\", \"manual\", \"elisa\", \"embedding\", \"topological\", \"thesaurus_affinity\", \"ood_clustering\"]\n",
    "eval_types = [\"all\", \"ood_validation\"]\n",
    "for seed in seeds:\n",
    "    for mapping in mappings:\n",
    "        for eval_type in eval_types:\n",
    "            if mapping == \"ood_clustering\" and eval_type == \"all\":\n",
    "                continue\n",
    "            path = f\"data/predictions/almnps_{seed}/{mapping}/{eval_type}/eval.log\"\n",
    "            try:\n",
    "                with open(path) as f:\n",
    "                    lines = f.readlines()\n",
    "                    if lines[-1] != \"All results saved. Exiting.\\n\":\n",
    "                        print(f\"{seed}\\t{mapping}\\t{eval_type}\")\n",
    "            except:\n",
    "                print(f\"{seed}\\t{mapping}\\t{eval_type}\")"
   ]
  }
 ],
 "metadata": {
  "kernelspec": {
   "display_name": "2yp",
   "language": "python",
   "name": "python3"
  },
  "language_info": {
   "codemirror_mode": {
    "name": "ipython",
    "version": 3
   },
   "file_extension": ".py",
   "mimetype": "text/x-python",
   "name": "python",
   "nbconvert_exporter": "python",
   "pygments_lexer": "ipython3",
   "version": "3.9.16"
  },
  "orig_nbformat": 4
 },
 "nbformat": 4,
 "nbformat_minor": 2
}
