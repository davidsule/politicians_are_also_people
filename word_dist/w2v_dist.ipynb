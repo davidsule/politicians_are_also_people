{
 "cells": [
  {
   "attachments": {},
   "cell_type": "markdown",
   "metadata": {},
   "source": [
    "# Entity type clustering"
   ]
  },
  {
   "cell_type": "code",
   "execution_count": null,
   "metadata": {},
   "outputs": [],
   "source": [
    "import numpy as np\n",
    "import pandas as pd\n",
    "from sklearn.cluster import KMeans, DBSCAN, AffinityPropagation, SpectralClustering, AgglomerativeClustering\n",
    "from sklearn_extra.cluster import KMedoids\n",
    "from sklearn.decomposition import PCA\n",
    "from sklearn.manifold import MDS, SpectralEmbedding\n",
    "from gensim.models import Word2Vec, KeyedVectors\n",
    "from  gensim import downloader\n",
    "import math\n",
    "import pickle\n",
    "\n",
    "from tqdm import tqdm\n",
    "from collections import Counter\n",
    "\n",
    "import dist_util as util"
   ]
  },
  {
   "cell_type": "code",
   "execution_count": null,
   "metadata": {},
   "outputs": [],
   "source": [
    "random_state = 4012\n",
    "\n",
    "# Avoid downloading / loading the whole Word2Vec Google News 300 model\n",
    "# If True, category names can't be calculated\n",
    "quick = False\n",
    "\n",
    "if quick:\n",
    "    entities = ['genre', 'song', 'writer', 'university', 'javascript', 'enzyme', 'award', 'chemical', 'person', 'event', 'conference', 'protein', 'magazine', 'task', 'galaxy', 'journal', 'album', 'researcher', 'discipline', 'band', 'book', 'country', 'election', 'algorithm', 'organization', 'location', 'poem', 'product', 'metrics', 'miscellaneous', 'musician', 'field', 'politician', 'coalition', 'theory', 'violin', 'scientist']\n",
    "    with open(\"embs.pkl\", \"rb\") as f:\n",
    "        embeddings = pickle.load(f)"
   ]
  },
  {
   "cell_type": "code",
   "execution_count": null,
   "metadata": {},
   "outputs": [],
   "source": [
    "if quick == False:\n",
    "    # Labels (Manual copy from .env file)\n",
    "    entities_orig = \"literarygenre song writer university programlang enzyme award chemicalcompound person event chemicalelement conference protein musicgenre magazine task astronomicalobject academicjournal album researcher discipline band book country election algorithm organisation location poem product metrics misc musicalartist field politician politicalparty theory musicalinstrument scientist\"\n",
    "    entities_orig = entities_orig.split()\n",
    "\n",
    "    # Load Word2Vec embeddings - First time download: ~1.6 GB\n",
    "    print(\"Loading pretrained Word2Vec model, this may take a while.\")\n",
    "    w2v = downloader.load(\"word2vec-google-news-300\")\n",
    "\n",
    "    # Check which words are not in Word2Vec model\n",
    "    missing = util.find_missing(w2v, entities_orig)\n",
    "    print(f\"These entities are not in the model:\\n{missing}\")"
   ]
  },
  {
   "cell_type": "code",
   "execution_count": null,
   "metadata": {},
   "outputs": [],
   "source": [
    "if quick == False:\n",
    "    # Manual correction\n",
    "    substitute = {\"musicalartist\": \"musician\", \"organisation\": \"organization\", \"politicalparty\": \"coalition\", \"academicjournal\": \"journal\", \"chemicalcompound\": \"chemical\", \"chemicalelement\": \"chemical\", \"astronomicalobject\": \"galaxy\", \"musicgenre\": \"genre\", \"literarygenre\": \"genre\", \"programlang\": \"javascript\", \"musicalinstrument\": \"violin\", \"misc\": \"miscellaneous\"}\n",
    "    entities = []\n",
    "    for entity in entities_orig:\n",
    "        if entity in substitute:\n",
    "            to_add = substitute[entity]\n",
    "        else:\n",
    "            to_add = entity\n",
    "        if to_add not in entities:\n",
    "            entities.append(to_add)\n",
    "\n",
    "    still_missing = util.find_missing(w2v, entities)\n",
    "    if len(still_missing) > 0:\n",
    "        print(\"These entities are not in the model:\")\n",
    "        print(still_missing)\n",
    "    else:\n",
    "        print(\"All entities are in the model. Final list:\")\n",
    "        print(entities)\n",
    "        print(\"Loading embeddings for them.\")\n",
    "        embeddings = w2v[entities]"
   ]
  },
  {
   "cell_type": "code",
   "execution_count": null,
   "metadata": {},
   "outputs": [],
   "source": [
    "# Test Clusterings\n",
    "f = open(\"w2v_clustering_test.txt\", \"w\")\n",
    "\n",
    "n_clusters = range(6, 10)\n",
    "n_components = [5, 7]\n",
    "\n",
    "for n in n_clusters:\n",
    "    for j in n_components:\n",
    "        mds = MDS(n_components=j, random_state=random_state)\n",
    "        mds = mds.fit_transform(embeddings)\n",
    "        km = KMeans(n_clusters=n, random_state=random_state, n_init=100)\n",
    "        km = km.fit_predict(mds)\n",
    "        categories = util.get_categories(km, entities)\n",
    "        f.write(f\"\\nnr clusters: {str(n)}\\tnr components: {j}\\n\")\n",
    "        for category, elements in categories.items():\n",
    "            f.write(f\"{category}:\\t{elements}\\n\")\n",
    "f.close()"
   ]
  },
  {
   "cell_type": "code",
   "execution_count": null,
   "metadata": {},
   "outputs": [],
   "source": [
    "# Chosen Clustering\n",
    "n_clusters = 7\n",
    "n_components = 7\n",
    "mds = MDS(n_components=n_components, random_state=random_state)\n",
    "mds = mds.fit_transform(embeddings)\n",
    "km = KMeans(n_clusters=n_clusters, random_state=random_state, n_init=100)\n",
    "km = km.fit_predict(mds)\n",
    "categories = util.get_categories(km, entities)\n",
    "if quick == False:\n",
    "    print(\"Calculating label names, this might take a few sec.\")\n",
    "    categories = util.get_named_categories(categories, w2v)\n",
    "else:\n",
    "    print(\"Set `quick` to False to get named categories. Defaulting to unnamed labels.\")\n",
    "print(\"\\nThe final categories are:\\n\")\n",
    "for category, elements in categories.items():\n",
    "    print(f\"{category}:\\t{elements}\")"
   ]
  }
 ],
 "metadata": {
  "kernelspec": {
   "display_name": "2yp",
   "language": "python",
   "name": "python3"
  },
  "language_info": {
   "codemirror_mode": {
    "name": "ipython",
    "version": 3
   },
   "file_extension": ".py",
   "mimetype": "text/x-python",
   "name": "python",
   "nbconvert_exporter": "python",
   "pygments_lexer": "ipython3",
   "version": "3.9.16"
  },
  "orig_nbformat": 4
 },
 "nbformat": 4,
 "nbformat_minor": 2
}
