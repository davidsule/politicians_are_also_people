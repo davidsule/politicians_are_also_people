{
 "cells": [
  {
   "attachments": {},
   "cell_type": "markdown",
   "metadata": {},
   "source": [
    "# Entity type clustering"
   ]
  },
  {
   "cell_type": "code",
   "execution_count": 1,
   "metadata": {},
   "outputs": [
    {
     "name": "stderr",
     "output_type": "stream",
     "text": [
      "[nltk_data] Downloading package wordnet to\n",
      "[nltk_data]     /home/davidsule/nltk_data...\n",
      "[nltk_data]   Package wordnet is already up-to-date!\n"
     ]
    }
   ],
   "source": [
    "import numpy as np\n",
    "import pandas as pd\n",
    "from sklearn.cluster import KMeans, DBSCAN, AffinityPropagation, SpectralClustering, AgglomerativeClustering\n",
    "from sklearn_extra.cluster import KMedoids\n",
    "from sklearn.decomposition import PCA\n",
    "from sklearn.manifold import MDS, SpectralEmbedding\n",
    "from gensim.models import Word2Vec, KeyedVectors\n",
    "from  gensim import downloader\n",
    "import math\n",
    "import pickle\n",
    "\n",
    "from tqdm import tqdm\n",
    "from collections import Counter\n",
    "\n",
    "import dist_util as util"
   ]
  },
  {
   "cell_type": "code",
   "execution_count": 2,
   "metadata": {},
   "outputs": [],
   "source": [
    "random_state = 4012\n",
    "\n",
    "# Avoid downloading / loading the whole Word2Vec Google News 300 model\n",
    "quick = False\n",
    "\n",
    "if quick:\n",
    "    entities = ['genre', 'song', 'writer', 'university', 'javascript', 'enzyme', 'award', 'chemical', 'person', 'event', 'conference', 'protein', 'magazine', 'task', 'galaxy', 'journal', 'album', 'researcher', 'discipline', 'band', 'book', 'country', 'election', 'algorithm', 'organization', 'location', 'poem', 'product', 'metrics', 'miscellaneous', 'musician', 'field', 'politician', 'coalition', 'theory', 'violin', 'scientist']\n",
    "    with open(\"embs.pkl\", \"rb\") as f:\n",
    "        embeddings = pickle.load(f)"
   ]
  },
  {
   "cell_type": "code",
   "execution_count": 3,
   "metadata": {},
   "outputs": [
    {
     "name": "stdout",
     "output_type": "stream",
     "text": [
      "Loading pretrained Word2Vec model, this may take a while.\n",
      "These entities are not in the model:\n",
      "['academicjournal', 'astronomicalobject', 'chemicalcompound', 'chemicalelement', 'literarygenre', 'musicalartist', 'musicalinstrument', 'musicgenre', 'organisation', 'politicalparty', 'programlang']\n"
     ]
    }
   ],
   "source": [
    "if quick == False:\n",
    "    # Labels (Manual copy from .env file)\n",
    "    entities_orig = \"academicjournal album algorithm astronomicalobject award band book chemicalcompound chemicalelement conference country discipline election enzyme event field literarygenre location magazine metrics misc musicalartist musicalinstrument musicgenre organisation person poem politicalparty politician product programlang protein researcher scientist song task theory university writer\"\n",
    "    entities_orig = entities_orig.split()\n",
    "\n",
    "    # Load Word2Vec embeddings - First time download: ~1.6 GB\n",
    "    print(\"Loading pretrained Word2Vec model, this may take a while.\")\n",
    "    w2v = downloader.load(\"word2vec-google-news-300\")\n",
    "\n",
    "    # Check which words are not in Word2Vec model\n",
    "    missing = util.find_missing(w2v, entities_orig)\n",
    "    print(f\"These entities are not in the model:\\n{missing}\")"
   ]
  },
  {
   "cell_type": "code",
   "execution_count": 4,
   "metadata": {},
   "outputs": [
    {
     "name": "stdout",
     "output_type": "stream",
     "text": [
      "All entities are in the model. Final list:\n",
      "['journal', 'metrics', 'coalition', 'conference', 'protein', 'theory', 'field', 'event', 'election', 'researcher', 'politician', 'musician', 'enzyme', 'poem', 'band', 'magazine', 'product', 'writer', 'country', 'award', 'scientist', 'location', 'algorithm', 'genre', 'miscellaneous', 'javascript', 'task', 'galaxy', 'university', 'book', 'organization', 'violin', 'song', 'person', 'album', 'chemical', 'discipline']\n",
      "Loading embeddings for them.\n"
     ]
    }
   ],
   "source": [
    "if quick == False:\n",
    "    # Manual correction\n",
    "    substitute = {\"musicalartist\": \"musician\", \"organisation\": \"organization\", \"politicalparty\": \"coalition\", \"academicjournal\": \"journal\", \"chemicalcompound\": \"chemical\", \"chemicalelement\": \"chemical\", \"astronomicalobject\": \"galaxy\", \"musicgenre\": \"genre\", \"literarygenre\": \"genre\", \"programlang\": \"javascript\", \"musicalinstrument\": \"violin\", \"misc\": \"miscellaneous\"}\n",
    "    entities = set()\n",
    "    for entity in entities_orig:\n",
    "        if entity in substitute:\n",
    "            entities.add(substitute[entity])\n",
    "        else:\n",
    "            entities.add(entity)\n",
    "\n",
    "    entities = list(entities)\n",
    "\n",
    "    still_missing = util.find_missing(w2v, entities)\n",
    "    if len(still_missing) > 0:\n",
    "        print(\"These entities are not in the model:\")\n",
    "        print(still_missing)\n",
    "    else:\n",
    "        print(\"All entities are in the model. Final list:\")\n",
    "        print(entities)\n",
    "        print(\"Loading embeddings for them.\")\n",
    "        embeddings = w2v[entities]"
   ]
  },
  {
   "cell_type": "code",
   "execution_count": 5,
   "metadata": {},
   "outputs": [
    {
     "name": "stderr",
     "output_type": "stream",
     "text": [
      "/home/davidsule/anaconda3/envs/2yp/lib/python3.9/site-packages/sklearn/manifold/_mds.py:299: FutureWarning: The default value of `normalized_stress` will change to `'auto'` in version 1.4. To suppress this warning, manually set the value of `normalized_stress`.\n",
      "  warnings.warn(\n"
     ]
    }
   ],
   "source": [
    "# Dimensionality Reduction\n",
    "pca = PCA(n_components=6, svd_solver=\"full\") # random state not needed for \"full\" solver\n",
    "pca = pca.fit_transform(embeddings)\n",
    "\n",
    "mds = MDS(n_components=6, random_state=random_state)\n",
    "mds = mds.fit_transform(embeddings)\n",
    "\n",
    "se = SpectralEmbedding(n_components=6, random_state=random_state)\n",
    "se = se.fit_transform(embeddings)"
   ]
  },
  {
   "cell_type": "code",
   "execution_count": 6,
   "metadata": {},
   "outputs": [
    {
     "name": "stdout",
     "output_type": "stream",
     "text": [
      "5:\t['journal', 'poem', 'magazine', 'book']\n",
      "3:\t['metrics', 'field', 'election', 'country', 'miscellaneous', 'galaxy', 'university']\n",
      "0:\t['coalition', 'conference', 'event', 'award', 'location', 'task', 'organization', 'person', 'discipline']\n",
      "2:\t['protein', 'enzyme', 'chemical']\n",
      "4:\t['theory', 'product', 'algorithm', 'javascript']\n",
      "1:\t['researcher', 'politician', 'writer', 'scientist']\n",
      "6:\t['musician', 'band', 'genre', 'violin', 'song', 'album']\n"
     ]
    }
   ],
   "source": [
    "# K-Means example\n",
    "km = KMeans(n_clusters=7, random_state=random_state, n_init=100)\n",
    "km = km.fit_predict(se)\n",
    "\n",
    "categories = util.get_categories(km, entities)\n",
    "for category, entity in categories.items():\n",
    "    print(f\"{category}:\\t{entity}\")"
   ]
  }
 ],
 "metadata": {
  "kernelspec": {
   "display_name": "2yp",
   "language": "python",
   "name": "python3"
  },
  "language_info": {
   "codemirror_mode": {
    "name": "ipython",
    "version": 3
   },
   "file_extension": ".py",
   "mimetype": "text/x-python",
   "name": "python",
   "nbconvert_exporter": "python",
   "pygments_lexer": "ipython3",
   "version": "3.9.16"
  },
  "orig_nbformat": 4
 },
 "nbformat": 4,
 "nbformat_minor": 2
}
