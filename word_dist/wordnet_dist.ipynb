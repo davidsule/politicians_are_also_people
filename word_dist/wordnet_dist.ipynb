{
 "cells": [
  {
   "cell_type": "code",
   "execution_count": 35,
   "metadata": {},
   "outputs": [
    {
     "name": "stderr",
     "output_type": "stream",
     "text": [
      "[nltk_data] Downloading package wordnet to\n",
      "[nltk_data]     /home/davidsule/nltk_data...\n",
      "[nltk_data]   Package wordnet is already up-to-date!\n"
     ]
    }
   ],
   "source": [
    "import numpy as np\n",
    "import nltk\n",
    "import matplotlib.pyplot as plt\n",
    "nltk.download('wordnet')\n",
    "from nltk.corpus import wordnet\n",
    "from sklearn_extra.cluster import KMedoids\n",
    "from sklearn.cluster import AgglomerativeClustering, SpectralClustering, AffinityPropagation\n",
    "from scipy.cluster.hierarchy import dendrogram\n",
    "\n",
    "import dist_util as util\n",
    "\n",
    "random_state = 4012"
   ]
  },
  {
   "cell_type": "code",
   "execution_count": 2,
   "metadata": {},
   "outputs": [
    {
     "name": "stdout",
     "output_type": "stream",
     "text": [
      "['album', 'algorithm', 'award', 'band', 'book', 'chemical', 'conference', 'country', 'discipline', 'election', 'enzyme', 'event', 'field', 'galaxy', 'genre', 'instrument', 'java', 'journal', 'location', 'magazine', 'metrics', 'miscellaneous', 'musician', 'organization', 'party', 'person', 'poem', 'politician', 'product', 'protein', 'researcher', 'scientist', 'song', 'task', 'theory', 'university', 'writer']\n"
     ]
    }
   ],
   "source": [
    "entities_orig = \"academicjournal album algorithm astronomicalobject award band book chemicalcompound chemicalelement conference country discipline election enzyme event field literarygenre location magazine metrics misc musicalartist musicalinstrument musicgenre organisation person poem politicalparty politician product programlang protein researcher scientist song task theory university writer\"\n",
    "entities_orig = entities_orig.split()\n",
    "# Manual Correction\n",
    "substitute = {\"musicalartist\": \"musician\", \"organisation\": \"organization\", \"politicalparty\": \"party\", \"academicjournal\": \"journal\", \"chemicalcompound\": \"chemical\", \"chemicalelement\": \"chemical\", \"astronomicalobject\": \"galaxy\", \"musicgenre\": \"genre\", \"literarygenre\": \"genre\", \"programlang\": \"java\", \"musicalinstrument\": \"instrument\", \"misc\": \"miscellaneous\"}\n",
    "entities = set()\n",
    "for entity in entities_orig:\n",
    "    if entity in substitute:\n",
    "        entities.add(substitute[entity])\n",
    "    else:\n",
    "        entities.add(entity)\n",
    "\n",
    "entities = list(entities)\n",
    "entities.sort()\n",
    "print(entities)"
   ]
  },
  {
   "cell_type": "code",
   "execution_count": 3,
   "metadata": {},
   "outputs": [],
   "source": [
    "# Get categories with most frequent word meanings\n",
    "# util.category_dict(most_frequent_synset(entities), 2, entities)"
   ]
  },
  {
   "cell_type": "code",
   "execution_count": 4,
   "metadata": {},
   "outputs": [
    {
     "name": "stdout",
     "output_type": "stream",
     "text": [
      "36 writer\n",
      "0 Synset('writer.n.01') writes (books or stories or articles or the like) professionally (for pay)\n",
      "1 Synset('writer.n.02') a person who is able to write and has written something\n"
     ]
    }
   ],
   "source": [
    "# Check meanings and definitions for manual correction\n",
    "idx = 36\n",
    "synlist = wordnet.synsets(entities[idx])\n",
    "print(idx, entities[idx])\n",
    "for i, syn in enumerate(synlist):\n",
    "    print(i, syn, syn.definition())"
   ]
  },
  {
   "cell_type": "code",
   "execution_count": 5,
   "metadata": {},
   "outputs": [],
   "source": [
    "# Manual corrections of meanings. Key: idx in Entity_labels, value: idx of meaning in wordnet.synsets(word)\n",
    "# check: To check whether entities are the same as the list the meaning dict was made on\n",
    "check = ['album', 'algorithm', 'award', 'band', 'book', 'chemical', 'conference', 'country', 'discipline', 'election', 'enzyme', 'event', 'field', 'galaxy', 'genre', 'instrument', 'java', 'journal', 'location', 'magazine', 'metrics', 'miscellaneous', 'musician', 'organization', 'party', 'person', 'poem', 'politician', 'product', 'protein', 'researcher', 'scientist', 'song', 'task', 'theory', 'university', 'writer']\n",
    "if entities != check:\n",
    "    raise ValueError(\"entities modified since meaning_dict was edited!\")\n",
    "meaning_dict = {0: 0, 1: 0, 2: 1, 3: 0, 4: 0, 5: 0, 6: 0, 7: 0, 8: 0, 9: 0, 10: 0, 11: 0, 12: 3, 13: 2, 14: 0, 15: 5, 16: 2, 17: 1, 18: 0, 19: 0, 20: 3, 21: 0, 22: 0, 23: 2, 24: 0, 25: 0, 26: 0, 27: 0, 28: 0, 29: 0, 30: 0, 31: 0, 32: 0, 33: 1, 34: 0, 35: 2, 36: 0}"
   ]
  },
  {
   "cell_type": "code",
   "execution_count": 18,
   "metadata": {},
   "outputs": [
    {
     "name": "stdout",
     "output_type": "stream",
     "text": [
      "Synset('object.n.01'):\t['album', 'book', 'instrument', 'journal', 'location', 'magazine', 'product']\n",
      "Synset('psychological_feature.n.01'):\t['algorithm', 'discipline', 'election', 'event', 'field', 'genre', 'task', 'theory']\n",
      "Synset('communication.n.02'):\t['award', 'java', 'poem', 'song']\n",
      "Synset('group.n.01'):\t['band', 'conference', 'country', 'galaxy', 'organization', 'party', 'university']\n",
      "Synset('matter.n.03'):\t['chemical', 'enzyme']\n",
      "Synset('measure.n.02'):\t['metrics']\n",
      "Synset('assorted.s.01'):\t['miscellaneous']\n",
      "Synset('causal_agent.n.01'):\t['musician', 'person', 'politician', 'researcher', 'scientist', 'writer']\n",
      "Synset('thing.n.12'):\t['protein']\n"
     ]
    }
   ],
   "source": [
    "# Get categories with associated words\n",
    "entity_syns = []\n",
    "for i, word in enumerate(entities):\n",
    "    entity_syns.append(wordnet.synsets(word)[meaning_dict[i]])\n",
    "tree_categories = util.category_dict(entity_syns, 2, entities)\n",
    "for category, entity in tree_categories.items():\n",
    "    print(f\"{category}:\\t{entity}\")"
   ]
  },
  {
   "cell_type": "code",
   "execution_count": 8,
   "metadata": {},
   "outputs": [],
   "source": [
    "# Calculate Wu-Palmer Similarities\n",
    "similarities = util.get_wup_sim(entity_syns)\n",
    "distances = 1 - similarities"
   ]
  },
  {
   "cell_type": "code",
   "execution_count": 50,
   "metadata": {},
   "outputs": [
    {
     "name": "stdout",
     "output_type": "stream",
     "text": [
      "2:\t['album', 'book', 'instrument', 'journal', 'magazine', 'product']\n",
      "1:\t['algorithm', 'election', 'event', 'metrics', 'miscellaneous', 'task']\n",
      "3:\t['award', 'java', 'poem', 'song']\n",
      "5:\t['band', 'conference', 'country', 'galaxy', 'organization', 'party', 'university']\n",
      "0:\t['chemical', 'enzyme', 'protein']\n",
      "6:\t['discipline', 'field', 'genre', 'theory']\n",
      "4:\t['location', 'musician', 'person', 'politician', 'researcher', 'scientist', 'writer']\n"
     ]
    }
   ],
   "source": [
    "# K-MEDOIDS\n",
    "init_method = \"heuristic\" # heuristic / k-medoids++\n",
    "km = KMedoids(n_clusters=7, metric=\"precomputed\", method=\"pam\", init=init_method, random_state=random_state)\n",
    "km = km.fit_predict(distances)\n",
    "km_distance_categories = util.get_categories(km, entities)\n",
    "for category, entity in km_distance_categories.items():\n",
    "    print(f\"{category}:\\t{entity}\")"
   ]
  },
  {
   "cell_type": "code",
   "execution_count": 47,
   "metadata": {},
   "outputs": [
    {
     "data": {
      "image/png": "[encoded data removed]",
      "text/plain": [
       "<Figure size 640x480 with 1 Axes>"
      ]
     },
     "metadata": {},
     "output_type": "display_data"
    }
   ],
   "source": [
    "# AGGLOMERATIVE CLUSTERING\n",
    "linkage = \"average\" # \"complete\" / \"average\" / \"single\"\n",
    "ac = AgglomerativeClustering(n_clusters=None, metric=\"precomputed\", compute_full_tree=True, linkage=linkage, distance_threshold=0)\n",
    "\n",
    "# https://scikit-learn.org/stable/auto_examples/cluster/plot_agglomerative_dendrogram.html#sphx-glr-auto-examples-cluster-plot-agglomerative-dendrogram-py\n",
    "def plot_dendrogram(model, **kwargs):\n",
    "    # Create linkage matrix and then plot the dendrogram\n",
    "\n",
    "    # create the counts of samples under each node\n",
    "    counts = np.zeros(model.children_.shape[0])\n",
    "    n_samples = len(model.labels_)\n",
    "    for i, merge in enumerate(model.children_):\n",
    "        current_count = 0\n",
    "        for child_idx in merge:\n",
    "            if child_idx < n_samples:\n",
    "                current_count += 1  # leaf node\n",
    "            else:\n",
    "                current_count += counts[child_idx - n_samples]\n",
    "        counts[i] = current_count\n",
    "\n",
    "    linkage_matrix = np.column_stack(\n",
    "        [model.children_, model.distances_, counts]\n",
    "    ).astype(float)\n",
    "\n",
    "    # Plot the corresponding dendrogram\n",
    "    dendrogram(linkage_matrix, **kwargs)\n",
    "\n",
    "ac = ac.fit(distances)\n",
    "plot_dendrogram(ac, truncate_mode=\"level\", p=8)"
   ]
  },
  {
   "cell_type": "code",
   "execution_count": 70,
   "metadata": {},
   "outputs": [
    {
     "name": "stdout",
     "output_type": "stream",
     "text": [
      "1:\t['album', 'book', 'instrument', 'journal', 'location', 'magazine', 'musician', 'person', 'politician', 'product', 'researcher', 'scientist', 'writer']\n",
      "0:\t['algorithm', 'discipline', 'election', 'event', 'field', 'genre', 'task', 'theory']\n",
      "2:\t['award', 'java', 'poem', 'song']\n",
      "3:\t['band', 'conference', 'country', 'galaxy', 'organization', 'party', 'university']\n",
      "4:\t['chemical', 'enzyme', 'protein']\n",
      "6:\t['metrics']\n",
      "5:\t['miscellaneous']\n"
     ]
    }
   ],
   "source": [
    "# AGGLOMERATIVE CLUSTERING\n",
    "linkage = \"average\" # \"complete\" / \"average\" / \"single\"\n",
    "ac = AgglomerativeClustering(n_clusters=7, metric=\"precomputed\", compute_full_tree=True, linkage=linkage)\n",
    "ac = ac.fit_predict(distances)\n",
    "ac_distance_categories = util.get_categories(ac, entities)\n",
    "for category, entity in ac_distance_categories.items():\n",
    "    print(f\"{category}:\\t{entity}\")"
   ]
  },
  {
   "cell_type": "code",
   "execution_count": 82,
   "metadata": {},
   "outputs": [
    {
     "name": "stdout",
     "output_type": "stream",
     "text": [
      "2:\t['album', 'book', 'instrument', 'journal', 'magazine', 'product']\n",
      "1:\t['algorithm', 'discipline', 'election', 'event', 'field', 'genre', 'metrics', 'miscellaneous', 'task', 'theory']\n",
      "0:\t['award', 'java', 'poem', 'song']\n",
      "3:\t['band', 'conference', 'country', 'galaxy', 'organization', 'party', 'university']\n",
      "5:\t['chemical', 'enzyme', 'protein']\n",
      "4:\t['location', 'musician', 'person', 'politician', 'researcher', 'scientist', 'writer']\n"
     ]
    }
   ],
   "source": [
    "# Affinity Propagation\n",
    "damping = 0.5 # [0.5, 1.0)\n",
    "ap = AffinityPropagation(damping=damping, affinity=\"precomputed\", random_state=random_state)\n",
    "ap = ap.fit_predict(similarities)\n",
    "ap_distance_categories = util.get_categories(ap, entities)\n",
    "for category, entity in ap_distance_categories.items():\n",
    "    print(f\"{category}:\\t{entity}\")"
   ]
  },
  {
   "cell_type": "code",
   "execution_count": 91,
   "metadata": {},
   "outputs": [
    {
     "name": "stdout",
     "output_type": "stream",
     "text": [
      "1:\t['album', 'book', 'instrument', 'journal', 'magazine', 'product']\n",
      "3:\t['algorithm', 'discipline', 'election', 'event', 'field', 'genre', 'task', 'theory']\n",
      "2:\t['award', 'java', 'metrics', 'miscellaneous', 'poem', 'song']\n",
      "4:\t['band', 'conference', 'country', 'galaxy', 'organization', 'party', 'university']\n",
      "0:\t['chemical', 'enzyme', 'protein']\n",
      "5:\t['location', 'musician', 'person', 'politician', 'researcher', 'scientist', 'writer']\n"
     ]
    }
   ],
   "source": [
    "# Spectral Clustering\n",
    "assign_labels = \"cluster_qr\" # \"kmeans\", \"discretize\", \"cluster_qr\"\n",
    "sc = SpectralClustering(n_clusters=6, random_state=random_state, affinity=\"precomputed\", assign_labels=assign_labels)\n",
    "sc = sc.fit_predict(similarities)\n",
    "sc_distance_categories = util.get_categories(sc, entities)\n",
    "for category, entity in sc_distance_categories.items():\n",
    "    print(f\"{category}:\\t{entity}\")"
   ]
  }
 ],
 "metadata": {
  "kernelspec": {
   "display_name": "2yp",
   "language": "python",
   "name": "python3"
  },
  "language_info": {
   "codemirror_mode": {
    "name": "ipython",
    "version": 3
   },
   "file_extension": ".py",
   "mimetype": "text/x-python",
   "name": "python",
   "nbconvert_exporter": "python",
   "pygments_lexer": "ipython3",
   "version": "3.9.16"
  },
  "orig_nbformat": 4
 },
 "nbformat": 4,
 "nbformat_minor": 2
}
