{
 "cells": [
  {
   "cell_type": "code",
   "execution_count": 5,
   "metadata": {},
   "outputs": [
    {
     "name": "stderr",
     "output_type": "stream",
     "text": [
      "[nltk_data] Downloading package wordnet to\n",
      "[nltk_data]     /home/davidsule/nltk_data...\n",
      "[nltk_data]   Package wordnet is already up-to-date!\n"
     ]
    }
   ],
   "source": [
    "import nltk\n",
    "nltk.download('wordnet')\n",
    "from nltk.corpus import wordnet\n",
    "\n",
    "import dist_util as util"
   ]
  },
  {
   "cell_type": "code",
   "execution_count": 6,
   "metadata": {},
   "outputs": [
    {
     "name": "stdout",
     "output_type": "stream",
     "text": [
      "['album', 'algorithm', 'award', 'band', 'book', 'chemical', 'conference', 'country', 'discipline', 'election', 'enzyme', 'event', 'field', 'galaxy', 'genre', 'instrument', 'java', 'journal', 'location', 'magazine', 'metrics', 'miscellaneous', 'musician', 'organization', 'party', 'person', 'poem', 'politician', 'product', 'protein', 'researcher', 'scientist', 'song', 'task', 'theory', 'university', 'writer']\n"
     ]
    }
   ],
   "source": [
    "entities_orig = \"academicjournal album algorithm astronomicalobject award band book chemicalcompound chemicalelement conference country discipline election enzyme event field literarygenre location magazine metrics misc musicalartist musicalinstrument musicgenre organisation person poem politicalparty politician product programlang protein researcher scientist song task theory university writer\"\n",
    "entities_orig = entities_orig.split()\n",
    "# Manual Correction\n",
    "substitute = {\"musicalartist\": \"musician\", \"organisation\": \"organization\", \"politicalparty\": \"party\", \"academicjournal\": \"journal\", \"chemicalcompound\": \"chemical\", \"chemicalelement\": \"chemical\", \"astronomicalobject\": \"galaxy\", \"musicgenre\": \"genre\", \"literarygenre\": \"genre\", \"programlang\": \"java\", \"musicalinstrument\": \"instrument\", \"misc\": \"miscellaneous\"}\n",
    "entities = set()\n",
    "for entity in entities_orig:\n",
    "    if entity in substitute:\n",
    "        entities.add(substitute[entity])\n",
    "    else:\n",
    "        entities.add(entity)\n",
    "\n",
    "entities = list(entities)\n",
    "entities.sort()\n",
    "print(entities)"
   ]
  },
  {
   "cell_type": "code",
   "execution_count": 7,
   "metadata": {},
   "outputs": [],
   "source": [
    "# Get categories with most frequent word meanings\n",
    "# util.category_dict(most_frequent_synset(entities), 2, entities)"
   ]
  },
  {
   "cell_type": "code",
   "execution_count": 8,
   "metadata": {},
   "outputs": [
    {
     "name": "stdout",
     "output_type": "stream",
     "text": [
      "36 writer\n",
      "0 Synset('writer.n.01') writes (books or stories or articles or the like) professionally (for pay)\n",
      "1 Synset('writer.n.02') a person who is able to write and has written something\n"
     ]
    }
   ],
   "source": [
    "# Check meanings and definitions for manual correction\n",
    "idx = 36\n",
    "synlist = wordnet.synsets(entities[idx])\n",
    "print(idx, entities[idx])\n",
    "for i, syn in enumerate(synlist):\n",
    "    print(i, syn, syn.definition())"
   ]
  },
  {
   "cell_type": "code",
   "execution_count": 9,
   "metadata": {},
   "outputs": [],
   "source": [
    "# Manual corrections of meanings. Key: idx in Entity_labels, value: idx of meaning in wordnet.synsets(word)\n",
    "# check: To check whether entities are the same as the list the meaning dict was made on\n",
    "check = ['album', 'algorithm', 'award', 'band', 'book', 'chemical', 'conference', 'country', 'discipline', 'election', 'enzyme', 'event', 'field', 'galaxy', 'genre', 'instrument', 'java', 'journal', 'location', 'magazine', 'metrics', 'miscellaneous', 'musician', 'organization', 'party', 'person', 'poem', 'politician', 'product', 'protein', 'researcher', 'scientist', 'song', 'task', 'theory', 'university', 'writer']\n",
    "if entities != check:\n",
    "    raise ValueError(\"entities modified since meaning_dict was edited!\")\n",
    "meaning_dict = {0: 0, 1: 0, 2: 1, 3: 0, 4: 0, 5: 0, 6: 0, 7: 0, 8: 0, 9: 0, 10: 0, 11: 0, 12: 3, 13: 2, 14: 0, 15: 5, 16: 2, 17: 1, 18: 0, 19: 0, 20: 3, 21: 0, 22: 0, 23: 2, 24: 0, 25: 0, 26: 0, 27: 0, 28: 0, 29: 0, 30: 0, 31: 0, 32: 0, 33: 1, 34: 0, 35: 2, 36: 0}"
   ]
  },
  {
   "cell_type": "code",
   "execution_count": 10,
   "metadata": {},
   "outputs": [
    {
     "name": "stdout",
     "output_type": "stream",
     "text": [
      "Synset('object.n.01'):\t['album', 'book', 'instrument', 'journal', 'location', 'magazine', 'product']\n",
      "Synset('psychological_feature.n.01'):\t['algorithm', 'discipline', 'election', 'event', 'field', 'genre', 'task', 'theory']\n",
      "Synset('communication.n.02'):\t['award', 'java', 'poem', 'song']\n",
      "Synset('group.n.01'):\t['band', 'conference', 'country', 'galaxy', 'organization', 'party', 'university']\n",
      "Synset('matter.n.03'):\t['chemical', 'enzyme']\n",
      "Synset('measure.n.02'):\t['metrics']\n",
      "Synset('assorted.s.01'):\t['miscellaneous']\n",
      "Synset('causal_agent.n.01'):\t['musician', 'person', 'politician', 'researcher', 'scientist', 'writer']\n",
      "Synset('thing.n.12'):\t['protein']\n"
     ]
    }
   ],
   "source": [
    "# Get categories with associated words\n",
    "entity_syns = []\n",
    "for i, word in enumerate(entities):\n",
    "    entity_syns.append(wordnet.synsets(word)[meaning_dict[i]])\n",
    "categories = util.category_dict(entity_syns, 2, entities)\n",
    "for category, entity in categories.items():\n",
    "    print(f\"{category}:\\t{entity}\")"
   ]
  },
  {
   "cell_type": "code",
   "execution_count": 11,
   "metadata": {},
   "outputs": [],
   "source": [
    "# Calculate Wu-Palmer Similarities\n",
    "similarities = util.get_wup_sim(entity_syns)"
   ]
  }
 ],
 "metadata": {
  "kernelspec": {
   "display_name": "2yp",
   "language": "python",
   "name": "python3"
  },
  "language_info": {
   "codemirror_mode": {
    "name": "ipython",
    "version": 3
   },
   "file_extension": ".py",
   "mimetype": "text/x-python",
   "name": "python",
   "nbconvert_exporter": "python",
   "pygments_lexer": "ipython3",
   "version": "3.9.16"
  },
  "orig_nbformat": 4
 },
 "nbformat": 4,
 "nbformat_minor": 2
}
